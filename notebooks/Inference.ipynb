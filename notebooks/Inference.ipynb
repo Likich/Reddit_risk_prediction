{
 "cells": [
  {
   "cell_type": "code",
   "execution_count": 12,
   "id": "61b67c4a-ae74-4046-bda1-cf1fccee38eb",
   "metadata": {},
   "outputs": [],
   "source": [
    "from datetime import datetime, timedelta\n",
    "import os\n",
    "import pandas as pd\n",
    "import numpy as np\n",
    "from sklearn.preprocessing import LabelEncoder\n",
    "import torch\n",
    "import matplotlib.pyplot as plt\n",
    "from sklearn.model_selection import train_test_split\n",
    "from sklearn.metrics import classification_report, roc_auc_score, f1_score, roc_curve\n",
    "from transformers import (\n",
    "    BertTokenizer,\n",
    "    BertModel,\n",
    "    BertForSequenceClassification,\n",
    "    AdamW,\n",
    "    AutoTokenizer,\n",
    "    TFAutoModel,\n",
    "    pipeline,\n",
    ")\n",
    "from tqdm import tqdm\n",
    "import math\n",
    "import numbers\n",
    "import torch.utils.data as utils\n",
    "import ast\n",
    "import tensorflow as tf\n",
    "from tensorflow.keras.layers import Input, Embedding, GRU, Dense, Dropout, Lambda, LSTM\n",
    "from tensorflow.keras.models import Model\n",
    "from tensorflow.keras.optimizers import Adam\n",
    "from tensorflow.keras.callbacks import LearningRateScheduler\n",
    "from tensorflow.keras.layers.experimental.preprocessing import TextVectorization"
   ]
  },
  {
   "cell_type": "code",
   "execution_count": 13,
   "id": "7f780378-a3cd-4f46-893a-3064f16cf33c",
   "metadata": {},
   "outputs": [],
   "source": [
    "train_data = np.load('train_data.npy')\n",
    "val_data = np.load('val_data.npy')\n",
    "test_data = np.load('test_data.npy')\n",
    "train_data_use = np.load('train_data_use.npy')\n",
    "val_data_use = np.load('val_data_use.npy')\n",
    "test_data_use = np.load('test_data_use.npy')\n",
    "train_timestamps_padded = np.load('train_timestamps_padded.npy')\n",
    "val_timestamps_padded = np.load('val_timestamps_padded.npy')\n",
    "test_timestamps_padded = np.load('test_timestamps_padded.npy')\n",
    "train_labels = np.load('train_labels.npy')\n",
    "val_labels = np.load('val_labels.npy')\n",
    "test_labels = np.load('test_labels.npy')\n",
    "emoberta = np.load('emoberta_full.npy', allow_pickle=True)\n",
    "emoberta_padded = tf.keras.preprocessing.sequence.pad_sequences(emoberta, padding='post', maxlen=1265)"
   ]
  },
  {
   "cell_type": "code",
   "execution_count": 16,
   "id": "b90d3fc5-6d0a-42a4-8e33-008882c93f2d",
   "metadata": {},
   "outputs": [],
   "source": [
    "np.random.seed(0)\n",
    "\n",
    "data = np.vstack((train_data, val_data, test_data))\n",
    "data_use = np.vstack((train_data_use, val_data_use, test_data_use))\n",
    "time = np.vstack((train_timestamps_padded, val_timestamps_padded, test_timestamps_padded))\n",
    "labels = np.vstack((train_labels, val_labels, test_labels))\n",
    "# emobed = np.vstack((train_data_emobed, val_data_emobed, test_data_emobed))\n",
    "\n",
    "train_data, val_test_data, train_emobed_data, val_test_emobed_data, train_labels, val_test_labels, train_timestamps_padded, val_test_timestamps_padded = train_test_split(\n",
    "    data,\n",
    "    emoberta_padded,\n",
    "    labels,\n",
    "    time,\n",
    "    test_size=0.2,\n",
    "    random_state=5\n",
    ")\n",
    "val_data, test_data, val_labels, test_labels, val_timestamps_padded, test_timestamps_padded, val_data_emobed, test_data_emobed = train_test_split(\n",
    "    val_test_data,\n",
    "    val_test_labels,\n",
    "    val_test_timestamps_padded,\n",
    "    val_test_emobed_data,\n",
    "    train_size=0.5,\n",
    "    random_state=5\n",
    ")\n",
    "\n",
    "train_data_use, val_test_data_use = train_test_split(\n",
    "    data_use,\n",
    "    test_size=0.2,\n",
    "    random_state=0\n",
    ")\n",
    "val_data_use, test_data_use = train_test_split(\n",
    "    val_test_data_use,\n",
    "    train_size=0.5,\n",
    "    random_state=0\n",
    ")"
   ]
  },
  {
   "cell_type": "code",
   "execution_count": 17,
   "id": "f26fed9b-12d7-443f-8618-99f154bb7f80",
   "metadata": {},
   "outputs": [],
   "source": [
    "MAX_SEQ_LENGTH = 1265\n",
    "# Define the number of classes\n",
    "NUM_CLASSES = 2\n",
    "# Define the learning rate decay parameters\n",
    "INIT_LR = 0.001\n",
    "DECAY_FACTOR = 0.1\n",
    "DECAY_EPOCHS = 10\n",
    "# Define the GRU parameters\n",
    "LSTM_HIDDEN_DIM = 256\n",
    "GRU_HIDDEN_DIM = 256\n",
    "DROPOUT_RATE = 0.2"
   ]
  },
  {
   "cell_type": "code",
   "execution_count": 18,
   "id": "3b0543dd-4b22-4993-b1a4-8f59342dac29",
   "metadata": {},
   "outputs": [],
   "source": [
    "# normalizing time inputs was super important!!\n",
    "max_time = 1./np.max(train_timestamps_padded)\n",
    "train_timestamps_padded = (train_timestamps_padded*max_time).astype(np.float32)\n",
    "val_timestamps_padded = (val_timestamps_padded*max_time).astype(np.float32)\n",
    "test_timestamps_padded = (test_timestamps_padded*max_time).astype(np.float32)"
   ]
  },
  {
   "cell_type": "code",
   "execution_count": null,
   "id": "e4288fb6-fde8-4122-add2-8b6d26a906c0",
   "metadata": {},
   "outputs": [],
   "source": [
    "## LSTM Time Decay"
   ]
  },
  {
   "cell_type": "code",
   "execution_count": 23,
   "id": "f83cfdcc-feef-4b28-854e-3fb84137f38f",
   "metadata": {},
   "outputs": [],
   "source": [
    "# Define the time decay function\n",
    "def time_decay(epoch):\n",
    "    lrate = INIT_LR * pow(DECAY_FACTOR, np.floor((1 + epoch) / DECAY_EPOCHS))\n",
    "    return lrate\n",
    "\n",
    "\n",
    "# Define the input layers\n",
    "EmbeddingInput = Input(shape=(MAX_SEQ_LENGTH, 768), name=\"embeddings\")\n",
    "TimeInput = Input(shape=(MAX_SEQ_LENGTH,), name=\"times\")\n",
    "decay_layer = Lambda(\n",
    "    lambda t: tf.math.exp(-(t - tf.roll(t, shift=1, axis=1)) / 86400),\n",
    "    name=\"decay_layer\",\n",
    ")(TimeInput)\n",
    "decay_layer_2 = tf.expand_dims(decay_layer, axis=-1, name=\"decay_layer_2\")\n",
    "lstm_layer = LSTM(\n",
    "    LSTM_HIDDEN_DIM, dropout=DROPOUT_RATE, return_sequences=True, name=\"lstm\"\n",
    ")(EmbeddingInput, mask=EmbeddingInput._keras_mask)\n",
    "multiply = tf.keras.layers.Multiply(name=\"multiply\")([lstm_layer, decay_layer_2])\n",
    "flatten_layer = tf.keras.layers.Flatten(name=\"flatten\")(multiply)\n",
    "outputs = Dense(NUM_CLASSES, activation=\"softmax\")(flatten_layer)\n",
    "model = Model(inputs=[EmbeddingInput, TimeInput], outputs=outputs)\n",
    "optimizer = Adam(learning_rate=INIT_LR)\n",
    "model.compile(\n",
    "    loss=\"binary_crossentropy\",\n",
    "    optimizer=optimizer,\n",
    "    metrics=[\"accuracy\", \"AUC\", \"Precision\", \"Recall\"],\n",
    ")\n"
   ]
  },
  {
   "cell_type": "code",
   "execution_count": 24,
   "id": "11977156-ba55-40fe-9101-389b96374c6e",
   "metadata": {},
   "outputs": [
    {
     "name": "stdout",
     "output_type": "stream",
     "text": [
      "Epoch 1/10\n"
     ]
    },
    {
     "name": "stderr",
     "output_type": "stream",
     "text": [
      "2023-06-02 13:49:22.269109: W tensorflow/tsl/framework/cpu_allocator_impl.cc:83] Allocation of 1523343360 exceeds 10% of free system memory.\n"
     ]
    },
    {
     "name": "stdout",
     "output_type": "stream",
     "text": [
      "13/13 [==============================] - 31s 2s/step - loss: 1.1458 - accuracy: 0.6480 - auc: 0.6719 - precision: 0.6480 - recall: 0.6480 - val_loss: 0.4673 - val_accuracy: 0.8571 - val_auc: 0.8784 - val_precision: 0.8571 - val_recall: 0.8571 - lr: 0.0010\n",
      "Epoch 2/10\n",
      "13/13 [==============================] - 27s 2s/step - loss: 0.4673 - accuracy: 0.7883 - auc: 0.8744 - precision: 0.7883 - recall: 0.7883 - val_loss: 0.5446 - val_accuracy: 0.8980 - val_auc: 0.9027 - val_precision: 0.8980 - val_recall: 0.8980 - lr: 0.0010\n",
      "Epoch 3/10\n",
      "13/13 [==============================] - 27s 2s/step - loss: 0.3370 - accuracy: 0.8724 - auc: 0.9299 - precision: 0.8724 - recall: 0.8724 - val_loss: 0.4229 - val_accuracy: 0.8980 - val_auc: 0.8988 - val_precision: 0.8980 - val_recall: 0.8980 - lr: 0.0010\n",
      "Epoch 4/10\n",
      "13/13 [==============================] - 27s 2s/step - loss: 0.2338 - accuracy: 0.9209 - auc: 0.9662 - precision: 0.9209 - recall: 0.9209 - val_loss: 0.4755 - val_accuracy: 0.8980 - val_auc: 0.9075 - val_precision: 0.8980 - val_recall: 0.8980 - lr: 0.0010\n",
      "Epoch 5/10\n",
      "13/13 [==============================] - 27s 2s/step - loss: 0.1652 - accuracy: 0.9464 - auc: 0.9832 - precision: 0.9464 - recall: 0.9464 - val_loss: 0.3271 - val_accuracy: 0.8980 - val_auc: 0.9209 - val_precision: 0.8980 - val_recall: 0.8980 - lr: 0.0010\n",
      "Epoch 6/10\n",
      "13/13 [==============================] - 27s 2s/step - loss: 0.1398 - accuracy: 0.9541 - auc: 0.9875 - precision: 0.9541 - recall: 0.9541 - val_loss: 0.4410 - val_accuracy: 0.9388 - val_auc: 0.9275 - val_precision: 0.9388 - val_recall: 0.9388 - lr: 0.0010\n",
      "Epoch 7/10\n",
      "13/13 [==============================] - 27s 2s/step - loss: 0.0985 - accuracy: 0.9694 - auc: 0.9901 - precision: 0.9694 - recall: 0.9694 - val_loss: 0.4067 - val_accuracy: 0.8776 - val_auc: 0.9225 - val_precision: 0.8776 - val_recall: 0.8776 - lr: 0.0010\n",
      "Epoch 8/10\n",
      "13/13 [==============================] - 27s 2s/step - loss: 0.3495 - accuracy: 0.8954 - auc: 0.9428 - precision: 0.8954 - recall: 0.8954 - val_loss: 0.8185 - val_accuracy: 0.8571 - val_auc: 0.8642 - val_precision: 0.8571 - val_recall: 0.8571 - lr: 0.0010\n",
      "Epoch 9/10\n",
      "13/13 [==============================] - 27s 2s/step - loss: 0.2226 - accuracy: 0.9107 - auc: 0.9645 - precision: 0.9107 - recall: 0.9107 - val_loss: 0.8987 - val_accuracy: 0.8776 - val_auc: 0.9009 - val_precision: 0.8776 - val_recall: 0.8776 - lr: 0.0010\n",
      "Epoch 10/10\n",
      "13/13 [==============================] - 27s 2s/step - loss: 0.1057 - accuracy: 0.9592 - auc: 0.9897 - precision: 0.9592 - recall: 0.9592 - val_loss: 1.2952 - val_accuracy: 0.8776 - val_auc: 0.8967 - val_precision: 0.8776 - val_recall: 0.8776 - lr: 1.0000e-04\n"
     ]
    }
   ],
   "source": [
    "lr_scheduler = LearningRateScheduler(time_decay)\n",
    "history = model.fit(\n",
    "    [train_data, train_timestamps_padded],\n",
    "    train_labels,\n",
    "    validation_data=([val_data, val_timestamps_padded], val_labels),\n",
    "    epochs=10,\n",
    "    batch_size=32,\n",
    "    callbacks=[lr_scheduler],\n",
    ")\n"
   ]
  },
  {
   "cell_type": "code",
   "execution_count": 25,
   "id": "7451ace7-aa65-453c-9d16-8fbd43f99b9c",
   "metadata": {},
   "outputs": [
    {
     "name": "stdout",
     "output_type": "stream",
     "text": [
      "2/2 [==============================] - 1s 522ms/step - loss: 0.3264 - accuracy: 0.9388 - auc: 0.9463 - precision: 0.9388 - recall: 0.9388\n"
     ]
    },
    {
     "data": {
      "text/plain": [
       "[0.3263731896877289,\n",
       " 0.9387755393981934,\n",
       " 0.9462723731994629,\n",
       " 0.9387755393981934,\n",
       " 0.9387755393981934]"
      ]
     },
     "execution_count": 25,
     "metadata": {},
     "output_type": "execute_result"
    }
   ],
   "source": [
    "model.evaluate([test_data, test_timestamps_padded], test_labels)"
   ]
  },
  {
   "cell_type": "code",
   "execution_count": 26,
   "id": "40f0c3c9-cb57-4bd9-bd6b-f96636126574",
   "metadata": {},
   "outputs": [
    {
     "name": "stdout",
     "output_type": "stream",
     "text": [
      "2/2 [==============================] - 2s 518ms/step\n",
      "Test AUROC: 0.9318181818181819\n",
      "Test AUPRC: 0.9\n",
      "Test Accuracy: 0.9387755102040817\n",
      "Test Recall: 0.9318181818181819\n",
      "Test Precision: 0.95\n",
      "Test F1 Score: 0.9370988446726572\n"
     ]
    }
   ],
   "source": [
    "test_preds = model.predict([test_data, test_timestamps_padded])\n",
    "test_preds = np.argmax(test_preds, axis=1)\n",
    "test_f1_score = f1_score(np.argmax(test_labels, axis=1), test_preds, average=\"macro\")\n",
    "from sklearn.metrics import (\n",
    "    roc_auc_score,\n",
    "    average_precision_score,\n",
    "    accuracy_score,\n",
    "    recall_score,\n",
    "    precision_score,\n",
    ")\n",
    "\n",
    "# Calculate AUROC\n",
    "test_auroc = roc_auc_score(np.argmax(test_labels, axis=1), test_preds)\n",
    "# Calculate AUPRC\n",
    "test_auprc = average_precision_score(np.argmax(test_labels, axis=1), test_preds)\n",
    "# Calculate accuracy\n",
    "test_accuracy = accuracy_score(np.argmax(test_labels, axis=1), test_preds)\n",
    "# Calculate recall\n",
    "test_recall = recall_score(np.argmax(test_labels, axis=1), test_preds, average=\"macro\")\n",
    "# Calculate precision\n",
    "test_precision = precision_score(\n",
    "    np.argmax(test_labels, axis=1), test_preds, average=\"macro\"\n",
    ")\n",
    "print(\"Test AUROC:\", test_auroc)\n",
    "print(\"Test AUPRC:\", test_auprc)\n",
    "print(\"Test Accuracy:\", test_accuracy)\n",
    "print(\"Test Recall:\", test_recall)\n",
    "print(\"Test Precision:\", test_precision)\n",
    "print(\"Test F1 Score:\", test_f1_score)"
   ]
  },
  {
   "cell_type": "code",
   "execution_count": null,
   "id": "4bd1ef57-d6f4-4a26-8a85-4243a645bcf5",
   "metadata": {},
   "outputs": [],
   "source": [
    "## LSTM with Attention"
   ]
  },
  {
   "cell_type": "code",
   "execution_count": 45,
   "id": "1997b406-8076-4ffd-9f07-004de532a696",
   "metadata": {},
   "outputs": [],
   "source": [
    "from tensorflow.keras.layers import Layer\n",
    "from tensorflow.keras.layers import Attention\n",
    "import keras.backend as K\n",
    "\n",
    "\n",
    "# Define the time decay function\n",
    "def time_decay(epoch):\n",
    "    lrate = INIT_LR * pow(DECAY_FACTOR, np.floor((1 + epoch) / DECAY_EPOCHS))\n",
    "    return lrate\n",
    "\n",
    "\n",
    "class attention(Layer):\n",
    "    def __init__(self, **kwargs):\n",
    "        super(attention, self).__init__(**kwargs)\n",
    "\n",
    "    def build(self, input_shape):\n",
    "        self.W = self.add_weight(\n",
    "            name=\"att_weight\", shape=(input_shape[-1], 1), initializer=\"normal\"\n",
    "        )\n",
    "        self.b = self.add_weight(\n",
    "            name=\"att_bias\", shape=(input_shape[1], 1), initializer=\"zeros\"\n",
    "        )\n",
    "        super(attention, self).build(input_shape)\n",
    "\n",
    "    def call(self, x):\n",
    "        et = K.squeeze(K.tanh(K.dot(x, self.W) + self.b), axis=-1)\n",
    "        at = K.softmax(et)\n",
    "        at = K.expand_dims(at, axis=-1)\n",
    "        output = x * at\n",
    "        attention_weights = at  # Return attention weights\n",
    "        return K.sum(output, axis=1), attention_weights\n",
    "\n",
    "    def compute_output_shape(self, input_shape):\n",
    "        return input_shape[0], input_shape[-1]\n",
    "\n",
    "    def get_config(self):\n",
    "        return super(attention, self).get_config()\n",
    "\n",
    "\n",
    "# Define the input layers\n",
    "EmbeddingInput = Input(shape=(MAX_SEQ_LENGTH, 768), name=\"embeddings\")\n",
    "TimeInput = Input(shape=(MAX_SEQ_LENGTH,), name=\"times\")\n",
    "decay_layer = Lambda(\n",
    "    lambda t: tf.math.exp(-(t - tf.roll(t, shift=1, axis=1)) / 86400),\n",
    "    name=\"decay_layer\",\n",
    ")(TimeInput)\n",
    "decay_layer_2 = tf.expand_dims(decay_layer, axis=-1, name=\"decay_layer_2\")\n",
    "lstm_layer = LSTM(\n",
    "    LSTM_HIDDEN_DIM, dropout=DROPOUT_RATE, return_sequences=True, name=\"lstm\"\n",
    ")(EmbeddingInput, mask=EmbeddingInput._keras_mask)\n",
    "multiply = tf.keras.layers.Multiply(name=\"multiply\")([lstm_layer, decay_layer_2])\n",
    "\n",
    "attention_layer = attention(name=\"attention\")\n",
    "att_out, attention_weights = attention_layer(multiply)\n",
    "\n",
    "attention_scores = tf.keras.layers.Flatten(name=\"attention_scores\")(attention_weights)\n",
    "outputs = Dense(NUM_CLASSES, activation=\"softmax\", name=\"output_real\")(att_out)\n",
    "\n",
    "# Create a separate output for attention scores\n",
    "# attention_scores = tf.keras.layers.Flatten(name='attention_scores')(attention)\n",
    "\n",
    "model = Model(inputs=[EmbeddingInput, TimeInput], outputs=[outputs, attention_scores])\n",
    "optimizer = Adam(learning_rate=INIT_LR)\n",
    "model.compile(\n",
    "    loss={\n",
    "        \"output_real\": \"binary_crossentropy\",\n",
    "        \"attention_scores\": \"mean_absolute_error\",\n",
    "    },\n",
    "    optimizer=optimizer,\n",
    "    metrics={\"output_real\": [\"accuracy\"]},\n",
    ")"
   ]
  },
  {
   "cell_type": "code",
   "execution_count": 22,
   "id": "c5e38ab9-0695-43bd-9c97-19dd23efb274",
   "metadata": {},
   "outputs": [
    {
     "name": "stdout",
     "output_type": "stream",
     "text": [
      "Model: \"model_1\"\n",
      "__________________________________________________________________________________________________\n",
      " Layer (type)                   Output Shape         Param #     Connected to                     \n",
      "==================================================================================================\n",
      " times (InputLayer)             [(None, 1265)]       0           []                               \n",
      "                                                                                                  \n",
      " embeddings (InputLayer)        [(None, 1265, 768)]  0           []                               \n",
      "                                                                                                  \n",
      " decay_layer (Lambda)           (None, 1265)         0           ['times[0][0]']                  \n",
      "                                                                                                  \n",
      " lstm (LSTM)                    (None, 1265, 256)    1049600     ['embeddings[0][0]']             \n",
      "                                                                                                  \n",
      " tf.expand_dims_1 (TFOpLambda)  (None, 1265, 1)      0           ['decay_layer[0][0]']            \n",
      "                                                                                                  \n",
      " multiply (Multiply)            (None, 1265, 256)    0           ['lstm[0][0]',                   \n",
      "                                                                  'tf.expand_dims_1[0][0]']       \n",
      "                                                                                                  \n",
      " attention (attention)          ((None, 256),        1521        ['multiply[0][0]']               \n",
      "                                 (None, 1265, 1))                                                 \n",
      "                                                                                                  \n",
      " output_real (Dense)            (None, 2)            514         ['attention[0][0]']              \n",
      "                                                                                                  \n",
      " attention_scores (Flatten)     (None, 1265)         0           ['attention[0][1]']              \n",
      "                                                                                                  \n",
      "==================================================================================================\n",
      "Total params: 1,051,635\n",
      "Trainable params: 1,051,635\n",
      "Non-trainable params: 0\n",
      "__________________________________________________________________________________________________\n"
     ]
    }
   ],
   "source": [
    "model.summary()"
   ]
  },
  {
   "cell_type": "code",
   "execution_count": 46,
   "id": "d458cd6f-7e3d-4a72-9f0d-e35291a0251c",
   "metadata": {
    "tags": []
   },
   "outputs": [
    {
     "name": "stdout",
     "output_type": "stream",
     "text": [
      "Epoch 1/6\n"
     ]
    },
    {
     "name": "stderr",
     "output_type": "stream",
     "text": [
      "2023-06-01 15:15:44.298659: W tensorflow/tsl/framework/cpu_allocator_impl.cc:83] Allocation of 1523343360 exceeds 10% of free system memory.\n"
     ]
    },
    {
     "name": "stdout",
     "output_type": "stream",
     "text": [
      "25/25 [==============================] - 55s 2s/step - loss: 0.6947 - output_real_loss: 0.6940 - attention_scores_loss: 7.9051e-04 - output_real_accuracy: 0.5893 - val_loss: 0.6222 - val_output_real_loss: 0.6214 - val_attention_scores_loss: 7.9051e-04 - val_output_real_accuracy: 0.7755 - lr: 0.0010\n",
      "Epoch 2/6\n",
      "25/25 [==============================] - 38s 2s/step - loss: 0.5336 - output_real_loss: 0.5328 - attention_scores_loss: 7.9051e-04 - output_real_accuracy: 0.7704 - val_loss: 0.4213 - val_output_real_loss: 0.4205 - val_attention_scores_loss: 7.9051e-04 - val_output_real_accuracy: 0.8367 - lr: 0.0010\n",
      "Epoch 3/6\n",
      "25/25 [==============================] - 38s 2s/step - loss: 0.5843 - output_real_loss: 0.5835 - attention_scores_loss: 7.9051e-04 - output_real_accuracy: 0.6964 - val_loss: 0.5647 - val_output_real_loss: 0.5639 - val_attention_scores_loss: 7.9051e-04 - val_output_real_accuracy: 0.7143 - lr: 0.0010\n",
      "Epoch 4/6\n",
      "25/25 [==============================] - 38s 2s/step - loss: 0.4024 - output_real_loss: 0.4016 - attention_scores_loss: 7.9051e-04 - output_real_accuracy: 0.8393 - val_loss: 0.3918 - val_output_real_loss: 0.3910 - val_attention_scores_loss: 7.9051e-04 - val_output_real_accuracy: 0.7959 - lr: 0.0010\n",
      "Epoch 5/6\n",
      "25/25 [==============================] - 38s 2s/step - loss: 0.4834 - output_real_loss: 0.4826 - attention_scores_loss: 7.9051e-04 - output_real_accuracy: 0.7730 - val_loss: 0.4153 - val_output_real_loss: 0.4145 - val_attention_scores_loss: 7.9051e-04 - val_output_real_accuracy: 0.8571 - lr: 0.0010\n",
      "Epoch 6/6\n",
      "25/25 [==============================] - 38s 2s/step - loss: 0.3219 - output_real_loss: 0.3211 - attention_scores_loss: 7.9051e-04 - output_real_accuracy: 0.8827 - val_loss: 0.2092 - val_output_real_loss: 0.2084 - val_attention_scores_loss: 7.9051e-04 - val_output_real_accuracy: 0.9388 - lr: 0.0010\n"
     ]
    }
   ],
   "source": [
    "from tensorflow.keras.callbacks import LearningRateScheduler, ReduceLROnPlateau\n",
    "\n",
    "lr_scheduler = ReduceLROnPlateau(factor=0.1, patience=10)\n",
    "history = model.fit(\n",
    "    [train_data, train_timestamps_padded],\n",
    "    {\"output_real\": train_labels, \"attention_scores\": np.zeros((392, 1265))},\n",
    "    validation_data=(\n",
    "        [val_data, val_timestamps_padded],\n",
    "        {\"output_real\": val_labels, \"attention_scores\": np.zeros((49, 1265))},\n",
    "    ),\n",
    "    epochs=6,\n",
    "    batch_size=16,\n",
    "    callbacks=[lr_scheduler],\n",
    "    shuffle=False,\n",
    ")"
   ]
  },
  {
   "cell_type": "code",
   "execution_count": 47,
   "id": "a23836a4-8dd0-4e58-872b-627beb1691b7",
   "metadata": {},
   "outputs": [
    {
     "name": "stdout",
     "output_type": "stream",
     "text": [
      "2/2 [==============================] - 2s 538ms/step\n",
      "Test AUROC: 0.9183333333333332\n",
      "Test AUPRC: 0.8872163265306122\n",
      "Test Accuracy: 0.9183673469387755\n",
      "Test Recall: 0.9183333333333333\n",
      "Test Precision: 0.9183333333333333\n",
      "Test F1 Score: 0.9183333333333333\n"
     ]
    }
   ],
   "source": [
    "test_preds = model.predict([test_data, test_timestamps_padded])\n",
    "test_preds = np.argmax(test_preds[0], axis=1)\n",
    "test_f1_score = f1_score(np.argmax(test_labels, axis=1), test_preds, average=\"macro\")\n",
    "from sklearn.metrics import (\n",
    "    roc_auc_score,\n",
    "    average_precision_score,\n",
    "    accuracy_score,\n",
    "    recall_score,\n",
    "    precision_score,\n",
    ")\n",
    "\n",
    "# Calculate AUROC\n",
    "test_auroc = roc_auc_score(np.argmax(test_labels, axis=1), test_preds)\n",
    "# Calculate AUPRC\n",
    "test_auprc = average_precision_score(np.argmax(test_labels, axis=1), test_preds)\n",
    "# Calculate accuracy\n",
    "test_accuracy = accuracy_score(np.argmax(test_labels, axis=1), test_preds)\n",
    "# Calculate recall\n",
    "test_recall = recall_score(np.argmax(test_labels, axis=1), test_preds, average=\"macro\")\n",
    "# Calculate precision\n",
    "test_precision = precision_score(\n",
    "    np.argmax(test_labels, axis=1), test_preds, average=\"macro\"\n",
    ")\n",
    "print(\"Test AUROC:\", test_auroc)\n",
    "print(\"Test AUPRC:\", test_auprc)\n",
    "print(\"Test Accuracy:\", test_accuracy)\n",
    "print(\"Test Recall:\", test_recall)\n",
    "print(\"Test Precision:\", test_precision)\n",
    "print(\"Test F1 Score:\", test_f1_score)"
   ]
  },
  {
   "cell_type": "code",
   "execution_count": 48,
   "id": "45ed4c4e-dd9e-4195-9f10-be4a20c3efa2",
   "metadata": {},
   "outputs": [
    {
     "name": "stdout",
     "output_type": "stream",
     "text": [
      "2/2 [==============================] - 1s 529ms/step\n"
     ]
    }
   ],
   "source": [
    "test_preds = model.predict([test_data, test_timestamps_padded])\n",
    "scores = test_preds[1]"
   ]
  },
  {
   "cell_type": "code",
   "execution_count": 43,
   "id": "a03ab535-242d-4105-a16c-b809143d7d66",
   "metadata": {},
   "outputs": [],
   "source": [
    "num_subjects = scores.shape[0]\n",
    "num_sentences = scores.shape[1]\n",
    "embedding_dim = scores.shape[2]\n",
    "\n",
    "attention_weights = np.zeros((num_subjects, num_sentences))\n",
    "\n",
    "for i in range(num_subjects):\n",
    "    for j in range(num_sentences):\n",
    "        attention_weights[i, j] = np.dot(test_data[i, j], scores[i, j])"
   ]
  },
  {
   "cell_type": "code",
   "execution_count": 14,
   "id": "7a9ac4f1-532e-4a19-bac4-6ac0d414b55d",
   "metadata": {},
   "outputs": [
    {
     "data": {
      "text/plain": [
       "(49, 1265)"
      ]
     },
     "execution_count": 14,
     "metadata": {},
     "output_type": "execute_result"
    }
   ],
   "source": [
    "attention_weights.shape"
   ]
  },
  {
   "cell_type": "code",
   "execution_count": 55,
   "id": "da2e0114-8973-4789-9d2e-cca0281c207e",
   "metadata": {},
   "outputs": [
    {
     "data": {
      "text/plain": [
       "array([[ 0.13727953,  0.06680126,  0.2991108 , ...,  0.        ,\n",
       "         0.        ,  0.        ],\n",
       "       [-0.16282681,  0.15440184, -0.08720291, ...,  0.        ,\n",
       "         0.        ,  0.        ],\n",
       "       [-0.00626363, -0.01205555, -0.01209223, ...,  0.        ,\n",
       "         0.        ,  0.        ],\n",
       "       ...,\n",
       "       [-0.01325723, -0.01074065,  0.00668882, ...,  0.        ,\n",
       "         0.        ,  0.        ],\n",
       "       [ 0.00463635,  0.00783895,  0.00039899, ...,  0.        ,\n",
       "         0.        ,  0.        ],\n",
       "       [-0.07219961, -0.2352502 , -0.3490521 , ...,  0.        ,\n",
       "         0.        ,  0.        ]])"
      ]
     },
     "execution_count": 55,
     "metadata": {},
     "output_type": "execute_result"
    }
   ],
   "source": [
    "attention_weights"
   ]
  },
  {
   "cell_type": "code",
   "execution_count": 16,
   "id": "c3a99b7e-7a7a-4566-9841-91b3bd148134",
   "metadata": {},
   "outputs": [],
   "source": [
    "df_concat = pd.read_csv('df_concat.csv')"
   ]
  },
  {
   "cell_type": "code",
   "execution_count": 17,
   "id": "6bc4b1bf-4c3a-4025-9a92-a60e9d6e7916",
   "metadata": {},
   "outputs": [],
   "source": [
    "import re\n",
    "import numpy as np\n",
    "big_list_of_arrays = []\n",
    "for i in range(len(df_concat)):\n",
    "    string = df_concat['embeddings_bert'].iloc[i]\n",
    "    embedding_str = string.replace('\\n', '')\n",
    "    embedding_str = embedding_str.replace('  ', ' ')\n",
    "    embedding_str = embedding_str.replace('  ', ' ')\n",
    "    embedding_str = embedding_str.replace('  ', ' ')\n",
    "    embedding_str = embedding_str.replace(', dtype=float32', '')\n",
    "    array_strings = re.findall(r'array\\(\\[(.*?)\\]\\)', embedding_str)\n",
    "    arrays = [np.array(ast.literal_eval(s)) for s in array_strings]\n",
    "    big_list_of_arrays.append(arrays)"
   ]
  },
  {
   "cell_type": "code",
   "execution_count": 18,
   "id": "391e3b3a-9127-4fcc-9086-3ff4a9bde1b5",
   "metadata": {},
   "outputs": [],
   "source": [
    "df_concat['embeddings_bert_converted'] = big_list_of_arrays"
   ]
  },
  {
   "cell_type": "code",
   "execution_count": 94,
   "id": "286fa3c2-6ba2-4ac0-8c20-2a6dc32f5d03",
   "metadata": {},
   "outputs": [],
   "source": [
    "# # unpadded_attent_weights = [a[(d!=0).all(1)] for a,d in zip(attention_weights, test_data)]\n",
    "# # lens2 = [len(a) for a in unpadded_attent_weights]\n",
    "# # attention_weights.shape, (test_data!=0).all(axis=2).shape\n",
    "# lens = [len(eval(t)) for t in df_concat['Text'].values]\n",
    "# intersect = set(lens2).intersection(set(lens))"
   ]
  },
  {
   "cell_type": "code",
   "execution_count": 20,
   "id": "5d56b565-ef4b-4348-9648-669b18031a32",
   "metadata": {},
   "outputs": [],
   "source": [
    "## subject2749 - 1 (77), subject3856 - 1 (197), subject8884 - 0 (30), subject8214 - 1 (224), subject1773 - 0 (234)"
   ]
  },
  {
   "cell_type": "code",
   "execution_count": 65,
   "id": "3df1af50-b24a-43a5-ae39-a63a40fd7606",
   "metadata": {},
   "outputs": [],
   "source": [
    "from scipy.special import softmax\n",
    "arr_softmax = softmax(attention_weights, axis=1)"
   ]
  },
  {
   "cell_type": "code",
   "execution_count": 66,
   "id": "07db739e-d21e-48be-9350-d5ee41104415",
   "metadata": {},
   "outputs": [],
   "source": [
    "test_subjects_5 = ['subject2749', 'subject3856', 'subject8884', 'subject8214', 'subject1773']"
   ]
  },
  {
   "cell_type": "code",
   "execution_count": 78,
   "id": "4d9f6906-0543-4255-a319-57420b3f4a97",
   "metadata": {},
   "outputs": [],
   "source": [
    "unpadded_attent_weights = [a[(d!=0).all(1)] for a,d in zip(attention_weights, test_data)]"
   ]
  },
  {
   "cell_type": "code",
   "execution_count": null,
   "id": "24322a71-9d19-4f1f-b6c8-b27ac705173b",
   "metadata": {},
   "outputs": [],
   "source": [
    "arr_softmax = np.exp(arr / temperature) / np.sum(np.exp(arr / temperature))"
   ]
  },
  {
   "cell_type": "code",
   "execution_count": 93,
   "id": "f28a4f10-f094-4b52-970d-bc8e8fc677e4",
   "metadata": {},
   "outputs": [],
   "source": [
    "temperature = 1.5\n",
    "normalized_attention = []\n",
    "for i in range(len(unpadded_attent_weights)):\n",
    "    arr_softmax = np.exp(unpadded_attent_weights[i] / temperature) / np.sum(np.exp(unpadded_attent_weights[i] / temperature))\n",
    "    normalized_attention.append(arr_softmax)"
   ]
  },
  {
   "cell_type": "code",
   "execution_count": 95,
   "id": "fb8e0c71-f58c-467c-a6a8-db8ff6af3f90",
   "metadata": {},
   "outputs": [],
   "source": [
    "subject2749_attention = normalized_attention[0]\n",
    "subject2749_texts = eval(df_concat['Text'].iloc[77])"
   ]
  },
  {
   "cell_type": "code",
   "execution_count": 96,
   "id": "d6daa8ab-f50e-4829-8edc-89acbe9b5eb0",
   "metadata": {},
   "outputs": [],
   "source": [
    "df_subject2749 = pd.DataFrame({\n",
    "    'Attention': subject2749_attention,\n",
    "    'Text': subject2749_texts\n",
    "})"
   ]
  },
  {
   "cell_type": "code",
   "execution_count": 146,
   "id": "b9cbe92a-05c3-420b-aa9a-953ff9809df3",
   "metadata": {},
   "outputs": [],
   "source": [
    "pd.set_option('display.max_colwidth', None)"
   ]
  },
  {
   "cell_type": "code",
   "execution_count": 97,
   "id": "29a4e7c3-ed1b-4ff1-a284-f8291d34727d",
   "metadata": {},
   "outputs": [],
   "source": [
    "df_subject2749_sorted = df_subject2749.sort_values(by='Attention', ascending=False)"
   ]
  },
  {
   "cell_type": "code",
   "execution_count": 98,
   "id": "29674b62-163d-4f9c-b8af-f6c56564a607",
   "metadata": {},
   "outputs": [
    {
     "data": {
      "text/html": [
       "<div>\n",
       "<style scoped>\n",
       "    .dataframe tbody tr th:only-of-type {\n",
       "        vertical-align: middle;\n",
       "    }\n",
       "\n",
       "    .dataframe tbody tr th {\n",
       "        vertical-align: top;\n",
       "    }\n",
       "\n",
       "    .dataframe thead th {\n",
       "        text-align: right;\n",
       "    }\n",
       "</style>\n",
       "<table border=\"1\" class=\"dataframe\">\n",
       "  <thead>\n",
       "    <tr style=\"text-align: right;\">\n",
       "      <th></th>\n",
       "      <th>Attention</th>\n",
       "      <th>Text</th>\n",
       "    </tr>\n",
       "  </thead>\n",
       "  <tbody>\n",
       "    <tr>\n",
       "      <th>88</th>\n",
       "      <td>0.014335</td>\n",
       "      <td>Didn't they though? They throw so much free play at me it's stupid. Makes it very difficult to not 'waste' it? How f'd is that? It's worse because I know everyone there. We're all addicted. We feed each other the fallacy of the next big win. We cheered each other and threw hundreds at buddies to get them back in the game. I'm such a dumbass.</td>\n",
       "    </tr>\n",
       "    <tr>\n",
       "      <th>89</th>\n",
       "      <td>0.013833</td>\n",
       "      <td>Your statement about \"driving with Hope\"..to win back your losses. Wow. How many times I felt the same! You wrote out exactly what so many of us go through. That damn money loss depression! I'm still feeling it from months ago, last year, the year before that. It's horrible. Terrifying. Humiliating. Shameful. The GUILT. Et cetera! In my experience, it doesn't matter if I win or lose, I still continue to want MORE. When does it end for us? The tentacles of need, greed, want-it latches deeply into our brain. That's addiction. We know it's bad. We want more. The cycle is neverending. How do we stop? We have to choose to stop. Nobody can make you. This money loss depression can only be decreased by no longer throwing our money away. Sure sounds easy to hear someone say it, but it's another thing to do it. Relapse is common. All we can do is take one step forward each day. My advice? Get busy living your life and finding other things to occupy your time. It's hard to do when all you can think of is getting that loss back! Yet, if you did, wouldn't you just gamble just a bit more to get yourself ahead? We will never be the ultimate winner. Ever. It is designed so we are the losers. Truth! I know that feeling, that rush, or dread, when you go into a casino. Are you ready to ban yourself yet? That's a good move in the healthy direction. Post anytime. There are plenty of us who are here to help, because hearing your struggle helps us too. Best wishes friend</td>\n",
       "    </tr>\n",
       "    <tr>\n",
       "      <th>24</th>\n",
       "      <td>0.013302</td>\n",
       "      <td>Stop all gambling now before you become one of the people who have blown through thousands. It would be just a matter of time. Sounds like you like that adrenaline too. It's your brain pulling you towards that addiction. There is no in between. Just STOP. Find something athletic, or anything else (no alcohol tho) to get away from the betting. You will be thankful later. It's a HORRIBLE addiction. It will ruin your life. Good luck!</td>\n",
       "    </tr>\n",
       "    <tr>\n",
       "      <th>23</th>\n",
       "      <td>0.012556</td>\n",
       "      <td>Your post could have been mine. Unbelievable. I am more convinced now more than ever that gambling is a true addiction. If people only knew what we felt on the inside! Your results were good, but it doesn't matter. We still go back. We still feel like shit. We still ultimately lose it all. We are never satisfied. Coming to Reddit is a start. You will see others in the same boat looking for understanding. Believe me, we understand. I have lost nearly everything, but come payday time? My heart rate goes up. I feel the adrenaline. I want to WIN and I will stay all day at the casino betting on my roulette. \"Today I'll just bet on color because it's better odds.\" The things I would tell myself to rationalize it all. The worst part? I made friends at the casino. If they lose, I give them money. If I lose, they give me money. We all want to stay there together and we cheer each other on. Addicts feeding addicts. Look, you aren't alone in this. I have no money and I'm trying like hell to get a payday loan. Nobody will because my history is horrible. I make great money but where does it go? To the numbers! To black. To red. Someone else manages my money now, and that has almost saved me. However, the budget I set aside each week still dreams of going back to play roulette to \"make more.\" Endless. My advice? Take one day at a time. I pray it works. You can do this. We can do this. Sending you good thoughts. Stay strong.</td>\n",
       "    </tr>\n",
       "    <tr>\n",
       "      <th>22</th>\n",
       "      <td>0.012492</td>\n",
       "      <td>A great post. I could have written the exact same thing. You nailed it. We win a million? Yep. We want to go \"make\" more! It messes up our brain. That is for certain. Being broke, broken, and done-- how many times do we repeat this before we say ENOUGH? I feel you. It sucks like nothing else. I wish I never discovered gambling. It's all I think about too. Good luck friend.</td>\n",
       "    </tr>\n",
       "    <tr>\n",
       "      <th>...</th>\n",
       "      <td>...</td>\n",
       "      <td>...</td>\n",
       "    </tr>\n",
       "    <tr>\n",
       "      <th>19</th>\n",
       "      <td>0.007089</td>\n",
       "      <td>I needed to hear this. Thank you! Stay strong and keep fighting.</td>\n",
       "    </tr>\n",
       "    <tr>\n",
       "      <th>109</th>\n",
       "      <td>0.007076</td>\n",
       "      <td>Stop while you are ahead of this. You noticed the pattern and the last thing you need is a gambling addiction. You are doing what we all do and you already see how it is negatively affecting your life. It will ruin you, and it is not worth it! You could lose more than you think. I wish you the best.</td>\n",
       "    </tr>\n",
       "    <tr>\n",
       "      <th>10</th>\n",
       "      <td>0.006961</td>\n",
       "      <td>Go get your happy now. Sometimes life's gifts are the oddest things! Life is short. Learn from this and be your best self. He obviously did not deserve your loyalty!! Best wishes!</td>\n",
       "    </tr>\n",
       "    <tr>\n",
       "      <th>52</th>\n",
       "      <td>0.006382</td>\n",
       "      <td>Hope you are doing alright! This addiction is difficult, but I, too, find comfort reading about others. Take care.</td>\n",
       "    </tr>\n",
       "    <tr>\n",
       "      <th>90</th>\n",
       "      <td>0.005731</td>\n",
       "      <td>Keep it up. It's hard, but people like you inspire so many others!</td>\n",
       "    </tr>\n",
       "  </tbody>\n",
       "</table>\n",
       "<p>111 rows × 2 columns</p>\n",
       "</div>"
      ],
      "text/plain": [
       "     Attention  \\\n",
       "88    0.014335   \n",
       "89    0.013833   \n",
       "24    0.013302   \n",
       "23    0.012556   \n",
       "22    0.012492   \n",
       "..         ...   \n",
       "19    0.007089   \n",
       "109   0.007076   \n",
       "10    0.006961   \n",
       "52    0.006382   \n",
       "90    0.005731   \n",
       "\n",
       "                                                                                                                                                                                                                                                                                                                                                                                                                                                                                                                                                                                                                                                                                                                                                                                                                                                                                                                                                                                                                                                                                                                                                                                                                                                                                                                                                                                                                                                                                                                                 Text  \n",
       "88                                                                                                                                                                                                                                                                                                                                                                                                                                                                                                                                                                                                                                                                                                                                                                                                                                                                                                                                                                                                                                                                                                                                                                            Didn't they though? They throw so much free play at me it's stupid. Makes it very difficult to not 'waste' it? How f'd is that? It's worse because I know everyone there. We're all addicted. We feed each other the fallacy of the next big win. We cheered each other and threw hundreds at buddies to get them back in the game. I'm such a dumbass.  \n",
       "89   Your statement about \"driving with Hope\"..to win back your losses. Wow. How many times I felt the same! You wrote out exactly what so many of us go through. That damn money loss depression! I'm still feeling it from months ago, last year, the year before that. It's horrible. Terrifying. Humiliating. Shameful. The GUILT. Et cetera! In my experience, it doesn't matter if I win or lose, I still continue to want MORE. When does it end for us? The tentacles of need, greed, want-it latches deeply into our brain. That's addiction. We know it's bad. We want more. The cycle is neverending. How do we stop? We have to choose to stop. Nobody can make you. This money loss depression can only be decreased by no longer throwing our money away. Sure sounds easy to hear someone say it, but it's another thing to do it. Relapse is common. All we can do is take one step forward each day. My advice? Get busy living your life and finding other things to occupy your time. It's hard to do when all you can think of is getting that loss back! Yet, if you did, wouldn't you just gamble just a bit more to get yourself ahead? We will never be the ultimate winner. Ever. It is designed so we are the losers. Truth! I know that feeling, that rush, or dread, when you go into a casino. Are you ready to ban yourself yet? That's a good move in the healthy direction. Post anytime. There are plenty of us who are here to help, because hearing your struggle helps us too. Best wishes friend  \n",
       "24                                                                                                                                                                                                                                                                                                                                                                                                                                                                                                                                                                                                                                                                                                                                                                                                                                                                                                                                                                                                                                                                                 Stop all gambling now before you become one of the people who have blown through thousands. It would be just a matter of time. Sounds like you like that adrenaline too. It's your brain pulling you towards that addiction. There is no in between. Just STOP. Find something athletic, or anything else (no alcohol tho) to get away from the betting. You will be thankful later. It's a HORRIBLE addiction. It will ruin your life. Good luck!  \n",
       "23                                          Your post could have been mine. Unbelievable. I am more convinced now more than ever that gambling is a true addiction. If people only knew what we felt on the inside! Your results were good, but it doesn't matter. We still go back. We still feel like shit. We still ultimately lose it all. We are never satisfied. Coming to Reddit is a start. You will see others in the same boat looking for understanding. Believe me, we understand. I have lost nearly everything, but come payday time? My heart rate goes up. I feel the adrenaline. I want to WIN and I will stay all day at the casino betting on my roulette. \"Today I'll just bet on color because it's better odds.\" The things I would tell myself to rationalize it all. The worst part? I made friends at the casino. If they lose, I give them money. If I lose, they give me money. We all want to stay there together and we cheer each other on. Addicts feeding addicts. Look, you aren't alone in this. I have no money and I'm trying like hell to get a payday loan. Nobody will because my history is horrible. I make great money but where does it go? To the numbers! To black. To red. Someone else manages my money now, and that has almost saved me. However, the budget I set aside each week still dreams of going back to play roulette to \"make more.\" Endless. My advice? Take one day at a time. I pray it works. You can do this. We can do this. Sending you good thoughts. Stay strong.  \n",
       "22                                                                                                                                                                                                                                                                                                                                                                                                                                                                                                                                                                                                                                                                                                                                                                                                                                                                                                                                                                                                                                                                                                                                            A great post. I could have written the exact same thing. You nailed it. We win a million? Yep. We want to go \"make\" more! It messes up our brain. That is for certain. Being broke, broken, and done-- how many times do we repeat this before we say ENOUGH? I feel you. It sucks like nothing else. I wish I never discovered gambling. It's all I think about too. Good luck friend.  \n",
       "..                                                                                                                                                                                                                                                                                                                                                                                                                                                                                                                                                                                                                                                                                                                                                                                                                                                                                                                                                                                                                                                                                                                                                                                                                                                                                                                                                                                                                                                                                                                                ...  \n",
       "19                                                                                                                                                                                                                                                                                                                                                                                                                                                                                                                                                                                                                                                                                                                                                                                                                                                                                                                                                                                                                                                                                                                                                                                                                                                                                                                                                                                                                                                                   I needed to hear this. Thank you! Stay strong and keep fighting.  \n",
       "109                                                                                                                                                                                                                                                                                                                                                                                                                                                                                                                                                                                                                                                                                                                                                                                                                                                                                                                                                                                                                                                                                                                                                                                                                      Stop while you are ahead of this. You noticed the pattern and the last thing you need is a gambling addiction. You are doing what we all do and you already see how it is negatively affecting your life. It will ruin you, and it is not worth it! You could lose more than you think. I wish you the best.  \n",
       "10                                                                                                                                                                                                                                                                                                                                                                                                                                                                                                                                                                                                                                                                                                                                                                                                                                                                                                                                                                                                                                                                                                                                                                                                                                                                                                                                                Go get your happy now. Sometimes life's gifts are the oddest things! Life is short. Learn from this and be your best self. He obviously did not deserve your loyalty!! Best wishes!  \n",
       "52                                                                                                                                                                                                                                                                                                                                                                                                                                                                                                                                                                                                                                                                                                                                                                                                                                                                                                                                                                                                                                                                                                                                                                                                                                                                                                                                                                                                                 Hope you are doing alright! This addiction is difficult, but I, too, find comfort reading about others. Take care.  \n",
       "90                                                                                                                                                                                                                                                                                                                                                                                                                                                                                                                                                                                                                                                                                                                                                                                                                                                                                                                                                                                                                                                                                                                                                                                                                                                                                                                                                                                                                                                                 Keep it up. It's hard, but people like you inspire so many others!  \n",
       "\n",
       "[111 rows x 2 columns]"
      ]
     },
     "execution_count": 98,
     "metadata": {},
     "output_type": "execute_result"
    }
   ],
   "source": [
    "df_subject2749_sorted"
   ]
  },
  {
   "cell_type": "code",
   "execution_count": 99,
   "id": "aba815e7-2ff7-46e0-8985-fc2cf4e991da",
   "metadata": {},
   "outputs": [
    {
     "data": {
      "text/html": [
       "<div>\n",
       "<style scoped>\n",
       "    .dataframe tbody tr th:only-of-type {\n",
       "        vertical-align: middle;\n",
       "    }\n",
       "\n",
       "    .dataframe tbody tr th {\n",
       "        vertical-align: top;\n",
       "    }\n",
       "\n",
       "    .dataframe thead th {\n",
       "        text-align: right;\n",
       "    }\n",
       "</style>\n",
       "<table border=\"1\" class=\"dataframe\">\n",
       "  <thead>\n",
       "    <tr style=\"text-align: right;\">\n",
       "      <th></th>\n",
       "      <th>Attention</th>\n",
       "      <th>Text</th>\n",
       "    </tr>\n",
       "  </thead>\n",
       "  <tbody>\n",
       "    <tr>\n",
       "      <th>490</th>\n",
       "      <td>0.001724</td>\n",
       "      <td>For those that believe in setting a limit or have a money management strategy when heading into the casino. Bullshit. Same event, same outcome, same vicious cycle. Too many times, I noticed when I chase my losses. 9 out of 10 times. I head into the downward spiral. I place bigger bets in an attempt to recuperate, never works. I totally let my guard down tonight, my hard earned money and the overtime I've been putting in. Down the drain in just a few hours. I'm quite the disappointment.</td>\n",
       "    </tr>\n",
       "    <tr>\n",
       "      <th>614</th>\n",
       "      <td>0.001681</td>\n",
       "      <td>The casino industry is definitely shady, just as the desperate gambler who is willing do shady things to get the money. The whole gambling trap is messed up.</td>\n",
       "    </tr>\n",
       "    <tr>\n",
       "      <th>360</th>\n",
       "      <td>0.001644</td>\n",
       "      <td>I went into gambling, with the dream that I can be rich and be financially free. I never won more than 8k, and that was when I was running lucky. I had a broken dream where if I had won 100k, I would put it down for a house. I hear countless stories of people win big money and lost it all. But seldom do we hear how the gambler's life is change for the better after the big win. My theory is once the gambler has won the big money. A part of his soul now belongs to the devil.</td>\n",
       "    </tr>\n",
       "    <tr>\n",
       "      <th>711</th>\n",
       "      <td>0.001628</td>\n",
       "      <td>In today's world, I believe human problems have gotten much more complex. Just because there's a variety of addictions, too much. Not to mention there's a list of mental illness, gives me grey hair just thinking about it. We cannot pin point the exact cause and there's no end in sight, as population increase and resource decrease. We become a product of our environment. I do however have hope. As long as we have good people out there, and people that wants to change for the better, earth will be a better place. Day 1. Namaste.</td>\n",
       "    </tr>\n",
       "    <tr>\n",
       "      <th>670</th>\n",
       "      <td>0.001621</td>\n",
       "      <td>I think winning big money will not solve our problems completely, it might add more fuel to the fire and prolong our habit. If I can recall, how many times did I win and put it back? But not spending the winnings on anything worthwhile, Countless. Finding ways to stop is the best course of action.</td>\n",
       "    </tr>\n",
       "    <tr>\n",
       "      <th>...</th>\n",
       "      <td>...</td>\n",
       "      <td>...</td>\n",
       "    </tr>\n",
       "    <tr>\n",
       "      <th>712</th>\n",
       "      <td>0.000618</td>\n",
       "      <td>Thanks, I will do so.</td>\n",
       "    </tr>\n",
       "    <tr>\n",
       "      <th>474</th>\n",
       "      <td>0.000572</td>\n",
       "      <td>You are a brave soul to bare all the years of misery in a single post. If you don't mind my question, what sort of gambling were you involved in?</td>\n",
       "    </tr>\n",
       "    <tr>\n",
       "      <th>467</th>\n",
       "      <td>0.000563</td>\n",
       "      <td>Sometimes I believe that my gambling behavior will follow me for time to come. Regardless, I must make an effort to change. And I hope you do so as well. Cheers.</td>\n",
       "    </tr>\n",
       "    <tr>\n",
       "      <th>487</th>\n",
       "      <td>0.000550</td>\n",
       "      <td>Thank you for this. I enjoy listening to motivational talks. But this will open my mind up to a different view.</td>\n",
       "    </tr>\n",
       "    <tr>\n",
       "      <th>296</th>\n",
       "      <td>0.000455</td>\n",
       "      <td>Did you encounter anything interesting? Perhaps something that stimulated your mind in a positive way?</td>\n",
       "    </tr>\n",
       "  </tbody>\n",
       "</table>\n",
       "<p>950 rows × 2 columns</p>\n",
       "</div>"
      ],
      "text/plain": [
       "     Attention  \\\n",
       "490   0.001724   \n",
       "614   0.001681   \n",
       "360   0.001644   \n",
       "711   0.001628   \n",
       "670   0.001621   \n",
       "..         ...   \n",
       "712   0.000618   \n",
       "474   0.000572   \n",
       "467   0.000563   \n",
       "487   0.000550   \n",
       "296   0.000455   \n",
       "\n",
       "                                                                                                                                                                                                                                                                                                                                                                                                                                                                                                                                                     Text  \n",
       "490                                            For those that believe in setting a limit or have a money management strategy when heading into the casino. Bullshit. Same event, same outcome, same vicious cycle. Too many times, I noticed when I chase my losses. 9 out of 10 times. I head into the downward spiral. I place bigger bets in an attempt to recuperate, never works. I totally let my guard down tonight, my hard earned money and the overtime I've been putting in. Down the drain in just a few hours. I'm quite the disappointment.  \n",
       "614                                                                                                                                                                                                                                                                                                                                                                                         The casino industry is definitely shady, just as the desperate gambler who is willing do shady things to get the money. The whole gambling trap is messed up.  \n",
       "360                                                         I went into gambling, with the dream that I can be rich and be financially free. I never won more than 8k, and that was when I was running lucky. I had a broken dream where if I had won 100k, I would put it down for a house. I hear countless stories of people win big money and lost it all. But seldom do we hear how the gambler's life is change for the better after the big win. My theory is once the gambler has won the big money. A part of his soul now belongs to the devil.  \n",
       "711  In today's world, I believe human problems have gotten much more complex. Just because there's a variety of addictions, too much. Not to mention there's a list of mental illness, gives me grey hair just thinking about it. We cannot pin point the exact cause and there's no end in sight, as population increase and resource decrease. We become a product of our environment. I do however have hope. As long as we have good people out there, and people that wants to change for the better, earth will be a better place. Day 1. Namaste.  \n",
       "670                                                                                                                                                                                                                                            I think winning big money will not solve our problems completely, it might add more fuel to the fire and prolong our habit. If I can recall, how many times did I win and put it back? But not spending the winnings on anything worthwhile, Countless. Finding ways to stop is the best course of action.  \n",
       "..                                                                                                                                                                                                                                                                                                                                                                                                                                                                                                                                                    ...  \n",
       "712                                                                                                                                                                                                                                                                                                                                                                                                                                                                                                                                 Thanks, I will do so.  \n",
       "474                                                                                                                                                                                                                                                                                                                                                                                                     You are a brave soul to bare all the years of misery in a single post. If you don't mind my question, what sort of gambling were you involved in?  \n",
       "467                                                                                                                                                                                                                                                                                                                                                                                     Sometimes I believe that my gambling behavior will follow me for time to come. Regardless, I must make an effort to change. And I hope you do so as well. Cheers.  \n",
       "487                                                                                                                                                                                                                                                                                                                                                                                                                                       Thank you for this. I enjoy listening to motivational talks. But this will open my mind up to a different view.  \n",
       "296                                                                                                                                                                                                                                                                                                                                                                                                                                                Did you encounter anything interesting? Perhaps something that stimulated your mind in a positive way?  \n",
       "\n",
       "[950 rows x 2 columns]"
      ]
     },
     "execution_count": 99,
     "metadata": {},
     "output_type": "execute_result"
    }
   ],
   "source": [
    "subject3856_attention = normalized_attention[1]\n",
    "subject3856_texts = eval(df_concat['Text'].iloc[197])\n",
    "df_subject3856 = pd.DataFrame({'Attention': subject3856_attention, 'Text': subject3856_texts})\n",
    "df_subject3856_sorted = df_subject3856.sort_values(by='Attention', ascending=False)\n",
    "df_subject3856_sorted"
   ]
  },
  {
   "cell_type": "code",
   "execution_count": 100,
   "id": "a56ebcbf-ff1f-413e-b687-624b86ab2601",
   "metadata": {},
   "outputs": [
    {
     "data": {
      "text/html": [
       "<div>\n",
       "<style scoped>\n",
       "    .dataframe tbody tr th:only-of-type {\n",
       "        vertical-align: middle;\n",
       "    }\n",
       "\n",
       "    .dataframe tbody tr th {\n",
       "        vertical-align: top;\n",
       "    }\n",
       "\n",
       "    .dataframe thead th {\n",
       "        text-align: right;\n",
       "    }\n",
       "</style>\n",
       "<table border=\"1\" class=\"dataframe\">\n",
       "  <thead>\n",
       "    <tr style=\"text-align: right;\">\n",
       "      <th></th>\n",
       "      <th>Attention</th>\n",
       "      <th>Text</th>\n",
       "    </tr>\n",
       "  </thead>\n",
       "  <tbody>\n",
       "    <tr>\n",
       "      <th>7</th>\n",
       "      <td>0.082569</td>\n",
       "      <td>Mad gambler, keep trying to stop but cant, just spunked 250 at the bookies there, might not seem like lots to some people but thats pretty much my free money for the whole month and I just got paid Thursday. At least my bills are covered but looks like it will be a long month telling my friends I am cutting back drinking or not in the mood as a shit excuse for not coming out and doing things, also avoiding letting my better half know I got no money cause I bet it all like a total clown. Ahh well need to use it as motivation not to do it again, am sure I will though and thats the shittest part, really wish I had never started gambling, an absolute fools sport</td>\n",
       "    </tr>\n",
       "    <tr>\n",
       "      <th>12</th>\n",
       "      <td>0.076112</td>\n",
       "      <td>Massive scam, paid today and already 140 down, spoke to my gambling councillor lady on the phone today, talked about tools to not gamble, felt like I had it sussed, 6 hours later and its already fucked. Gambling is exploitation of the stupid, problem is Im that stupid I let them do it again and again, 100% biggest scam going on in UK atm and unlike most other scams its 100% legal to fleece people without lots of money of every penny they have, stay strong my friend</td>\n",
       "    </tr>\n",
       "    <tr>\n",
       "      <th>2</th>\n",
       "      <td>0.074877</td>\n",
       "      <td>Boom!</td>\n",
       "    </tr>\n",
       "    <tr>\n",
       "      <th>0</th>\n",
       "      <td>0.072513</td>\n",
       "      <td>Keep it up, 45 days is amazing pal</td>\n",
       "    </tr>\n",
       "    <tr>\n",
       "      <th>9</th>\n",
       "      <td>0.071431</td>\n",
       "      <td>Having no freinds must be really tough, is there not any clubs you could join nearby to help with making freinds? I see from your posts on this thread you are a musican? you could always put up a sign in a local music shop looking for a band to join or someone to collabarate with musically? Stay off the gambling its a fucking horrible illlness when you let it overcome you. stay strong</td>\n",
       "    </tr>\n",
       "    <tr>\n",
       "      <th>1</th>\n",
       "      <td>0.071409</td>\n",
       "      <td>Keep going! Its worth 1000x more to you than any millionaires trying to steal it!</td>\n",
       "    </tr>\n",
       "    <tr>\n",
       "      <th>10</th>\n",
       "      <td>0.070794</td>\n",
       "      <td>cheers for the replys guys, its a fucking shitter isnt it haha</td>\n",
       "    </tr>\n",
       "    <tr>\n",
       "      <th>5</th>\n",
       "      <td>0.070189</td>\n",
       "      <td>Keep going</td>\n",
       "    </tr>\n",
       "    <tr>\n",
       "      <th>13</th>\n",
       "      <td>0.068477</td>\n",
       "      <td>Payday today, spoke to my telephone councillor lady who calls me every week this morning, felt pretty confident for the coming month, few hours later and Ive fucked up already, 140 lost today, maybe not a huge amount to some but a decent amount to me (500 or thereabouts disposable income for the month, I know how lucky I am to have this, its much more than lots of people I know) but thats almost 1/3rd of that spent in only a few hours on absolutely nothing, pathetic behaviour. Just Downloaded a timer there and Im 20 minutes gambling free, If I can make it to end of the month Ill be in a much better position than I was yesterday, currently seriously doubting my own ability to do this though unfortunately. However tomorrow is another day and if I can abstain for tomorrow and I only got 30 more days to hit a month and be back on track. Fingers crossed!</td>\n",
       "    </tr>\n",
       "    <tr>\n",
       "      <th>4</th>\n",
       "      <td>0.068178</td>\n",
       "      <td>I signed up to Gamstop, hasnt stopped me entirely and I still find ways but its shit hot, 100% recommended</td>\n",
       "    </tr>\n",
       "    <tr>\n",
       "      <th>6</th>\n",
       "      <td>0.067513</td>\n",
       "      <td>if you stay in UK Gamstop is good, send away a picture of your passport and it stops you making any online accounts, Self ban yourself from any Bookies close to your home or work. However from my experience there is always a way round or a way to cheat and gamble anyway, takes willpower no matter how many things you sign up to. Good luck pal</td>\n",
       "    </tr>\n",
       "    <tr>\n",
       "      <th>3</th>\n",
       "      <td>0.065591</td>\n",
       "      <td>Me too today, thankfully finished with a very small loss but feel I have lost all my efforts these last few days to stop which still sucks</td>\n",
       "    </tr>\n",
       "    <tr>\n",
       "      <th>8</th>\n",
       "      <td>0.050864</td>\n",
       "      <td>amazing! i hope to be in your shoes in 211 days time my man</td>\n",
       "    </tr>\n",
       "    <tr>\n",
       "      <th>14</th>\n",
       "      <td>0.045099</td>\n",
       "      <td>You too mate, life is much harder when we make our own problems I hope you still have some money left over to get through the month, try and keep it in your pocket its worth much more to us than the casinos and bookies!</td>\n",
       "    </tr>\n",
       "    <tr>\n",
       "      <th>11</th>\n",
       "      <td>0.044385</td>\n",
       "      <td>stick in, your money is worth much more to you than these casinos!</td>\n",
       "    </tr>\n",
       "  </tbody>\n",
       "</table>\n",
       "</div>"
      ],
      "text/plain": [
       "    Attention  \\\n",
       "7    0.082569   \n",
       "12   0.076112   \n",
       "2    0.074877   \n",
       "0    0.072513   \n",
       "9    0.071431   \n",
       "1    0.071409   \n",
       "10   0.070794   \n",
       "5    0.070189   \n",
       "13   0.068477   \n",
       "4    0.068178   \n",
       "6    0.067513   \n",
       "3    0.065591   \n",
       "8    0.050864   \n",
       "14   0.045099   \n",
       "11   0.044385   \n",
       "\n",
       "                                                                                                                                                                                                                                                                                                                                                                                                                                                                                                                                                                                                                                                                                                                                                                                                                                                                                             Text  \n",
       "7                                                                                                                                                                                                      Mad gambler, keep trying to stop but cant, just spunked 250 at the bookies there, might not seem like lots to some people but thats pretty much my free money for the whole month and I just got paid Thursday. At least my bills are covered but looks like it will be a long month telling my friends I am cutting back drinking or not in the mood as a shit excuse for not coming out and doing things, also avoiding letting my better half know I got no money cause I bet it all like a total clown. Ahh well need to use it as motivation not to do it again, am sure I will though and thats the shittest part, really wish I had never started gambling, an absolute fools sport  \n",
       "12                                                                                                                                                                                                                                                                                                                                                                                                          Massive scam, paid today and already 140 down, spoke to my gambling councillor lady on the phone today, talked about tools to not gamble, felt like I had it sussed, 6 hours later and its already fucked. Gambling is exploitation of the stupid, problem is Im that stupid I let them do it again and again, 100% biggest scam going on in UK atm and unlike most other scams its 100% legal to fleece people without lots of money of every penny they have, stay strong my friend  \n",
       "2                                                                                                                                                                                                                                                                                                                                                                                                                                                                                                                                                                                                                                                                                                                                                                                                                                                                                           Boom!  \n",
       "0                                                                                                                                                                                                                                                                                                                                                                                                                                                                                                                                                                                                                                                                                                                                                                                                                                                              Keep it up, 45 days is amazing pal  \n",
       "9                                                                                                                                                                                                                                                                                                                                                                                                                                                                                             Having no freinds must be really tough, is there not any clubs you could join nearby to help with making freinds? I see from your posts on this thread you are a musican? you could always put up a sign in a local music shop looking for a band to join or someone to collabarate with musically? Stay off the gambling its a fucking horrible illlness when you let it overcome you. stay strong  \n",
       "1                                                                                                                                                                                                                                                                                                                                                                                                                                                                                                                                                                                                                                                                                                                                                                                                               Keep going! Its worth 1000x more to you than any millionaires trying to steal it!  \n",
       "10                                                                                                                                                                                                                                                                                                                                                                                                                                                                                                                                                                                                                                                                                                                                                                                                                                 cheers for the replys guys, its a fucking shitter isnt it haha  \n",
       "5                                                                                                                                                                                                                                                                                                                                                                                                                                                                                                                                                                                                                                                                                                                                                                                                                                                                                      Keep going  \n",
       "13  Payday today, spoke to my telephone councillor lady who calls me every week this morning, felt pretty confident for the coming month, few hours later and Ive fucked up already, 140 lost today, maybe not a huge amount to some but a decent amount to me (500 or thereabouts disposable income for the month, I know how lucky I am to have this, its much more than lots of people I know) but thats almost 1/3rd of that spent in only a few hours on absolutely nothing, pathetic behaviour. Just Downloaded a timer there and Im 20 minutes gambling free, If I can make it to end of the month Ill be in a much better position than I was yesterday, currently seriously doubting my own ability to do this though unfortunately. However tomorrow is another day and if I can abstain for tomorrow and I only got 30 more days to hit a month and be back on track. Fingers crossed!  \n",
       "4                                                                                                                                                                                                                                                                                                                                                                                                                                                                                                                                                                                                                                                                                                                                                                                      I signed up to Gamstop, hasnt stopped me entirely and I still find ways but its shit hot, 100% recommended  \n",
       "6                                                                                                                                                                                                                                                                                                                                                                                                                                                                                                                                         if you stay in UK Gamstop is good, send away a picture of your passport and it stops you making any online accounts, Self ban yourself from any Bookies close to your home or work. However from my experience there is always a way round or a way to cheat and gamble anyway, takes willpower no matter how many things you sign up to. Good luck pal  \n",
       "3                                                                                                                                                                                                                                                                                                                                                                                                                                                                                                                                                                                                                                                                                                                                                      Me too today, thankfully finished with a very small loss but feel I have lost all my efforts these last few days to stop which still sucks  \n",
       "8                                                                                                                                                                                                                                                                                                                                                                                                                                                                                                                                                                                                                                                                                                                                                                                                                                     amazing! i hope to be in your shoes in 211 days time my man  \n",
       "14                                                                                                                                                                                                                                                                                                                                                                                                                                                                                                                                                                                                                                                                    You too mate, life is much harder when we make our own problems I hope you still have some money left over to get through the month, try and keep it in your pocket its worth much more to us than the casinos and bookies!  \n",
       "11                                                                                                                                                                                                                                                                                                                                                                                                                                                                                                                                                                                                                                                                                                                                                                                                                             stick in, your money is worth much more to you than these casinos!  "
      ]
     },
     "execution_count": 100,
     "metadata": {},
     "output_type": "execute_result"
    }
   ],
   "source": [
    "subject8214_attention = normalized_attention[3]\n",
    "subject8214_texts = eval(df_concat['Text'].iloc[224])\n",
    "df_subject8214 = pd.DataFrame({'Attention': subject8214_attention, 'Text': subject8214_texts})\n",
    "df_subject8214_sorted = df_subject8214.sort_values(by='Attention', ascending=False)\n",
    "df_subject8214_sorted"
   ]
  },
  {
   "cell_type": "code",
   "execution_count": 34,
   "id": "18fcac5e-1e3e-4b3d-b458-bb7a73677d64",
   "metadata": {},
   "outputs": [],
   "source": [
    "## GRUD time decay BERT"
   ]
  },
  {
   "cell_type": "code",
   "execution_count": 27,
   "id": "90e9ec27-109c-4d61-a5bc-ee1e9c4379f0",
   "metadata": {},
   "outputs": [],
   "source": [
    "# Define the time decay function\n",
    "def time_decay(epoch):\n",
    "    lrate = INIT_LR * pow(DECAY_FACTOR, np.floor((1 + epoch) / DECAY_EPOCHS))\n",
    "    return lrate\n",
    "\n",
    "\n",
    "# Define the input layers\n",
    "EmbeddingInput = Input(shape=(MAX_SEQ_LENGTH, 768), name=\"embeddings\")\n",
    "TimeInput = Input(shape=(MAX_SEQ_LENGTH,), name=\"times\")\n",
    "decay_layer = Lambda(\n",
    "    lambda t: tf.math.exp(-(t - tf.roll(t, shift=1, axis=1)) / 86400),\n",
    "    name=\"decay_layer\",\n",
    ")(TimeInput)\n",
    "decay_layer_2 = tf.expand_dims(decay_layer, axis=-1, name=\"decay_layer_2\")\n",
    "gru_layer = GRU(\n",
    "    GRU_HIDDEN_DIM, dropout=DROPOUT_RATE, return_sequences=True, name=\"gru\"\n",
    ")(EmbeddingInput, mask=EmbeddingInput._keras_mask)\n",
    "multiply = tf.keras.layers.Multiply(name=\"multiply\")([gru_layer, decay_layer_2])\n",
    "flatten_layer = tf.keras.layers.Flatten(name=\"flatten\")(multiply)\n",
    "outputs = Dense(NUM_CLASSES, activation=\"softmax\")(flatten_layer)\n",
    "model = Model(inputs=[EmbeddingInput, TimeInput], outputs=outputs)\n",
    "optimizer = Adam(learning_rate=INIT_LR)\n",
    "model.compile(\n",
    "    loss=\"binary_crossentropy\",\n",
    "    optimizer=optimizer,\n",
    "    metrics=[\"accuracy\", \"AUC\", \"Precision\", \"Recall\"],\n",
    ")\n"
   ]
  },
  {
   "cell_type": "code",
   "execution_count": 28,
   "id": "e1e5c3d6-89c7-4bef-ab74-0ad7ed7a1429",
   "metadata": {
    "tags": []
   },
   "outputs": [
    {
     "name": "stdout",
     "output_type": "stream",
     "text": [
      "Epoch 1/10\n"
     ]
    },
    {
     "name": "stderr",
     "output_type": "stream",
     "text": [
      "2023-06-02 13:59:11.906096: W tensorflow/tsl/framework/cpu_allocator_impl.cc:83] Allocation of 1523343360 exceeds 10% of free system memory.\n"
     ]
    },
    {
     "name": "stdout",
     "output_type": "stream",
     "text": [
      "13/13 [==============================] - 27s 2s/step - loss: 1.7738 - accuracy: 0.5969 - auc: 0.6091 - precision: 0.5969 - recall: 0.5969 - val_loss: 1.6936 - val_accuracy: 0.8367 - val_auc: 0.8176 - val_precision: 0.8367 - val_recall: 0.8367 - lr: 0.0010\n",
      "Epoch 2/10\n",
      "13/13 [==============================] - 23s 2s/step - loss: 0.6664 - accuracy: 0.8189 - auc: 0.8571 - precision: 0.8189 - recall: 0.8189 - val_loss: 0.5372 - val_accuracy: 0.8980 - val_auc: 0.9042 - val_precision: 0.8980 - val_recall: 0.8980 - lr: 0.0010\n",
      "Epoch 3/10\n",
      "13/13 [==============================] - 23s 2s/step - loss: 0.2067 - accuracy: 0.9209 - auc: 0.9730 - precision: 0.9209 - recall: 0.9209 - val_loss: 0.4680 - val_accuracy: 0.8776 - val_auc: 0.8867 - val_precision: 0.8776 - val_recall: 0.8776 - lr: 0.0010\n",
      "Epoch 4/10\n",
      "13/13 [==============================] - 23s 2s/step - loss: 0.1291 - accuracy: 0.9694 - auc: 0.9941 - precision: 0.9694 - recall: 0.9694 - val_loss: 0.4930 - val_accuracy: 0.9184 - val_auc: 0.9005 - val_precision: 0.9184 - val_recall: 0.9184 - lr: 0.0010\n",
      "Epoch 5/10\n",
      "13/13 [==============================] - 23s 2s/step - loss: 0.0965 - accuracy: 0.9745 - auc: 0.9964 - precision: 0.9745 - recall: 0.9745 - val_loss: 0.4348 - val_accuracy: 0.8980 - val_auc: 0.8892 - val_precision: 0.8980 - val_recall: 0.8980 - lr: 0.0010\n",
      "Epoch 6/10\n",
      "13/13 [==============================] - 23s 2s/step - loss: 0.0752 - accuracy: 0.9796 - auc: 0.9978 - precision: 0.9796 - recall: 0.9796 - val_loss: 0.4669 - val_accuracy: 0.8980 - val_auc: 0.9121 - val_precision: 0.8980 - val_recall: 0.8980 - lr: 0.0010\n",
      "Epoch 7/10\n",
      "13/13 [==============================] - 23s 2s/step - loss: 0.0592 - accuracy: 0.9923 - auc: 0.9991 - precision: 0.9923 - recall: 0.9923 - val_loss: 0.4213 - val_accuracy: 0.8980 - val_auc: 0.8988 - val_precision: 0.8980 - val_recall: 0.8980 - lr: 0.0010\n",
      "Epoch 8/10\n",
      "13/13 [==============================] - 23s 2s/step - loss: 0.0522 - accuracy: 0.9847 - auc: 0.9969 - precision: 0.9847 - recall: 0.9847 - val_loss: 0.4700 - val_accuracy: 0.8980 - val_auc: 0.9063 - val_precision: 0.8980 - val_recall: 0.8980 - lr: 0.0010\n",
      "Epoch 9/10\n",
      "13/13 [==============================] - 23s 2s/step - loss: 0.0399 - accuracy: 0.9974 - auc: 0.9994 - precision: 0.9974 - recall: 0.9974 - val_loss: 0.5234 - val_accuracy: 0.8980 - val_auc: 0.9063 - val_precision: 0.8980 - val_recall: 0.8980 - lr: 0.0010\n",
      "Epoch 10/10\n",
      "13/13 [==============================] - 23s 2s/step - loss: 0.0320 - accuracy: 0.9949 - auc: 0.9999 - precision: 0.9949 - recall: 0.9949 - val_loss: 0.5856 - val_accuracy: 0.8980 - val_auc: 0.9030 - val_precision: 0.8980 - val_recall: 0.8980 - lr: 1.0000e-04\n"
     ]
    }
   ],
   "source": [
    "lr_scheduler = LearningRateScheduler(time_decay)\n",
    "history = model.fit(\n",
    "    [train_data, train_timestamps_padded],\n",
    "    train_labels,\n",
    "    validation_data=([val_data, val_timestamps_padded], val_labels),\n",
    "    epochs=10,\n",
    "    batch_size=32,\n",
    "    callbacks=[lr_scheduler],\n",
    ")\n"
   ]
  },
  {
   "cell_type": "code",
   "execution_count": 29,
   "id": "b04c43b1-8622-49dd-9d07-00c13793930c",
   "metadata": {},
   "outputs": [
    {
     "name": "stdout",
     "output_type": "stream",
     "text": [
      "2/2 [==============================] - 1s 573ms/step - loss: 0.0935 - accuracy: 0.9592 - auc: 0.9958 - precision: 0.9592 - recall: 0.9592\n"
     ]
    },
    {
     "data": {
      "text/plain": [
       "[0.0935334786772728,\n",
       " 0.9591836929321289,\n",
       " 0.9958350658416748,\n",
       " 0.9591836929321289,\n",
       " 0.9591836929321289]"
      ]
     },
     "execution_count": 29,
     "metadata": {},
     "output_type": "execute_result"
    }
   ],
   "source": [
    "model.evaluate([test_data, test_timestamps_padded], test_labels)"
   ]
  },
  {
   "cell_type": "code",
   "execution_count": 30,
   "id": "d3296985-1271-4841-a769-d7ca93ea21b6",
   "metadata": {},
   "outputs": [
    {
     "name": "stdout",
     "output_type": "stream",
     "text": [
      "2/2 [==============================] - 2s 572ms/step\n",
      "Test AUROC: 0.9545454545454545\n",
      "Test AUPRC: 0.9310344827586207\n",
      "Test Accuracy: 0.9591836734693877\n",
      "Test Recall: 0.9545454545454546\n",
      "Test Precision: 0.9655172413793103\n",
      "Test F1 Score: 0.9583333333333333\n"
     ]
    }
   ],
   "source": [
    "test_preds = model.predict([test_data, test_timestamps_padded])\n",
    "test_preds = np.argmax(test_preds, axis=1)\n",
    "test_f1_score = f1_score(np.argmax(test_labels, axis=1), test_preds, average=\"macro\")\n",
    "from sklearn.metrics import (\n",
    "    roc_auc_score,\n",
    "    average_precision_score,\n",
    "    accuracy_score,\n",
    "    recall_score,\n",
    "    precision_score,\n",
    ")\n",
    "\n",
    "# Calculate AUROC\n",
    "test_auroc = roc_auc_score(np.argmax(test_labels, axis=1), test_preds)\n",
    "# Calculate AUPRC\n",
    "test_auprc = average_precision_score(np.argmax(test_labels, axis=1), test_preds)\n",
    "# Calculate accuracy\n",
    "test_accuracy = accuracy_score(np.argmax(test_labels, axis=1), test_preds)\n",
    "# Calculate recall\n",
    "test_recall = recall_score(np.argmax(test_labels, axis=1), test_preds, average=\"macro\")\n",
    "# Calculate precision\n",
    "test_precision = precision_score(\n",
    "    np.argmax(test_labels, axis=1), test_preds, average=\"macro\"\n",
    ")\n",
    "print(\"Test AUROC:\", test_auroc)\n",
    "print(\"Test AUPRC:\", test_auprc)\n",
    "print(\"Test Accuracy:\", test_accuracy)\n",
    "print(\"Test Recall:\", test_recall)\n",
    "print(\"Test Precision:\", test_precision)\n",
    "print(\"Test F1 Score:\", test_f1_score)\n"
   ]
  },
  {
   "cell_type": "code",
   "execution_count": 87,
   "id": "930d6548-a149-419c-a2f3-8dc42f2926e7",
   "metadata": {},
   "outputs": [
    {
     "data": {
      "image/png": "[encoded data removed]",
      "text/plain": [
       "<Figure size 432x288 with 1 Axes>"
      ]
     },
     "metadata": {
      "needs_background": "light"
     },
     "output_type": "display_data"
    },
    {
     "data": {
      "image/png": "[encoded data removed]",
      "text/plain": [
       "<Figure size 432x288 with 1 Axes>"
      ]
     },
     "metadata": {
      "needs_background": "light"
     },
     "output_type": "display_data"
    }
   ],
   "source": [
    "# summarize history for accuracy\n",
    "plt.plot(history.history['accuracy'])\n",
    "plt.plot(history.history['val_accuracy'])\n",
    "plt.title('model accuracy')\n",
    "plt.ylabel('accuracy')\n",
    "plt.xlabel('epoch')\n",
    "plt.legend(['train', 'val'], loc='upper left')\n",
    "plt.show()\n",
    "# summarize history for loss\n",
    "plt.plot(history.history['loss'])\n",
    "plt.plot(history.history['val_loss'])\n",
    "plt.title('model loss')\n",
    "plt.ylabel('loss')\n",
    "plt.xlabel('epoch')\n",
    "plt.legend(['train', 'val'], loc='upper left')\n",
    "plt.show()"
   ]
  },
  {
   "cell_type": "code",
   "execution_count": null,
   "id": "10fad99d-c933-4d2d-bd8c-c62069c613b1",
   "metadata": {},
   "outputs": [],
   "source": [
    "## GRUD time decay USE"
   ]
  },
  {
   "cell_type": "code",
   "execution_count": 78,
   "id": "bca7acd9-1cb0-4af2-b5e3-261c44cd742c",
   "metadata": {},
   "outputs": [],
   "source": [
    "# # Define the time decay function\n",
    "# def time_decay(epoch):\n",
    "#     lrate = INIT_LR * pow(DECAY_FACTOR, np.floor((1+epoch)/DECAY_EPOCHS))\n",
    "#     return lrate\n",
    "\n",
    "# # Define the input layers\n",
    "# EmbeddingInput = Input(shape=(MAX_SEQ_LENGTH,512), name='embeddings')\n",
    "# TimeInput = Input(shape=(MAX_SEQ_LENGTH,), name='times')\n",
    "# decay_layer = Lambda(lambda t: tf.math.exp(-(t - tf.roll(t, shift=1, axis=1)) / 86400), name='decay_layer')(TimeInput)\n",
    "# decay_layer_2 = tf.expand_dims(decay_layer, axis=-1, name='decay_layer_2')\n",
    "# gru_layer = GRU(GRU_HIDDEN_DIM, dropout=DROPOUT_RATE, return_sequences=True, name='gru')(EmbeddingInput, mask=EmbeddingInput._keras_mask)\n",
    "# multiply = tf.keras.layers.Multiply(name='multiply')([gru_layer, decay_layer_2])\n",
    "# flatten_layer = tf.keras.layers.Flatten(name='flatten')(multiply)\n",
    "# outputs = Dense(NUM_CLASSES, activation='softmax')(flatten_layer)\n",
    "# model = Model(inputs=[EmbeddingInput, TimeInput], outputs=outputs)\n",
    "# optimizer = Adam(learning_rate=INIT_LR)\n",
    "# model.compile(loss='binary_crossentropy', optimizer=optimizer, metrics=['accuracy'])\n",
    "# lr_scheduler = LearningRateScheduler(time_decay)\n",
    "# history = model.fit([train_data_use, train_timestamps_padded], train_labels, validation_data=([val_data_use, val_timestamps_padded], val_labels), epochs=10, batch_size=32, callbacks=[lr_scheduler])\n",
    "# test_preds = model.predict([test_data_use, test_timestamps_padded])\n",
    "# test_preds = np.argmax(test_preds, axis=1)\n",
    "# test_f1_score = f1_score(np.argmax(test_labels, axis=1), test_preds, average='macro')\n",
    "# from sklearn.metrics import roc_auc_score, average_precision_score, accuracy_score, recall_score, precision_score\n",
    "# # Calculate AUROC\n",
    "# test_auroc = roc_auc_score(np.argmax(test_labels, axis=1), test_preds)\n",
    "# # Calculate AUPRC\n",
    "# test_auprc = average_precision_score(np.argmax(test_labels, axis=1), test_preds)\n",
    "# # Calculate accuracy\n",
    "# test_accuracy = accuracy_score(np.argmax(test_labels, axis=1), test_preds)\n",
    "# # Calculate recall\n",
    "# test_recall = recall_score(np.argmax(test_labels, axis=1), test_preds, average='macro')\n",
    "# # Calculate precision\n",
    "# test_precision = precision_score(np.argmax(test_labels, axis=1), test_preds, average='macro')\n",
    "# print('Test AUROC:', test_auroc)\n",
    "# print('Test AUPRC:', test_auprc)\n",
    "# print('Test Accuracy:', test_accuracy)\n",
    "# print('Test Recall:', test_recall)\n",
    "# print('Test Precision:', test_precision)\n",
    "# print('Test F1 Score:', test_f1_score)"
   ]
  },
  {
   "cell_type": "code",
   "execution_count": null,
   "id": "20ae979b-8f43-462c-8790-45820c25c80d",
   "metadata": {},
   "outputs": [],
   "source": [
    "## No Time decay"
   ]
  },
  {
   "cell_type": "code",
   "execution_count": 59,
   "id": "8ecee30d-b693-4edf-8e1e-5d39d1cb29ca",
   "metadata": {},
   "outputs": [
    {
     "name": "stdout",
     "output_type": "stream",
     "text": [
      "Epoch 1/10\n",
      "13/13 [==============================] - 26s 2s/step - loss: 1.6828 - accuracy: 0.6327 - val_loss: 0.3831 - val_accuracy: 0.8980 - lr: 0.0010\n",
      "Epoch 2/10\n",
      "13/13 [==============================] - 23s 2s/step - loss: 0.4352 - accuracy: 0.8801 - val_loss: 0.3746 - val_accuracy: 0.8776 - lr: 0.0010\n",
      "Epoch 3/10\n",
      "13/13 [==============================] - 23s 2s/step - loss: 0.2122 - accuracy: 0.9235 - val_loss: 0.4207 - val_accuracy: 0.8367 - lr: 0.0010\n",
      "Epoch 4/10\n",
      "13/13 [==============================] - 23s 2s/step - loss: 0.1562 - accuracy: 0.9362 - val_loss: 0.2804 - val_accuracy: 0.9184 - lr: 0.0010\n",
      "Epoch 5/10\n",
      "13/13 [==============================] - 22s 2s/step - loss: 0.1146 - accuracy: 0.9745 - val_loss: 0.4378 - val_accuracy: 0.8776 - lr: 0.0010\n",
      "Epoch 6/10\n",
      "13/13 [==============================] - 23s 2s/step - loss: 0.0872 - accuracy: 0.9770 - val_loss: 0.3349 - val_accuracy: 0.8776 - lr: 0.0010\n",
      "Epoch 7/10\n",
      "13/13 [==============================] - 23s 2s/step - loss: 0.0597 - accuracy: 0.9898 - val_loss: 0.3146 - val_accuracy: 0.8980 - lr: 0.0010\n",
      "Epoch 8/10\n",
      "13/13 [==============================] - 23s 2s/step - loss: 0.0623 - accuracy: 0.9847 - val_loss: 0.3600 - val_accuracy: 0.8367 - lr: 0.0010\n",
      "Epoch 9/10\n",
      "13/13 [==============================] - 23s 2s/step - loss: 0.0385 - accuracy: 0.9949 - val_loss: 0.3769 - val_accuracy: 0.8980 - lr: 0.0010\n",
      "Epoch 10/10\n",
      "13/13 [==============================] - 23s 2s/step - loss: 0.0278 - accuracy: 0.9974 - val_loss: 0.3363 - val_accuracy: 0.8980 - lr: 1.0000e-04\n"
     ]
    }
   ],
   "source": [
    "# Define the time decay function\n",
    "def time_decay(epoch):\n",
    "    lrate = INIT_LR * pow(DECAY_FACTOR, np.floor((1 + epoch) / DECAY_EPOCHS))\n",
    "    return lrate\n",
    "\n",
    "\n",
    "# Define the input layers\n",
    "EmbeddingInput = Input(shape=(MAX_SEQ_LENGTH, 768), name=\"embeddings\")\n",
    "TimeInput = Input(shape=(MAX_SEQ_LENGTH,), name=\"times\")\n",
    "decay_layer = Lambda(\n",
    "    lambda t: tf.math.exp(-(t - tf.roll(t, shift=1, axis=1)) / 86400),\n",
    "    name=\"decay_layer\",\n",
    ")(TimeInput)\n",
    "decay_layer_2 = tf.expand_dims(decay_layer, axis=-1, name=\"decay_layer_2\")\n",
    "gru_layer = GRU(\n",
    "    GRU_HIDDEN_DIM, dropout=DROPOUT_RATE, return_sequences=True, name=\"gru\"\n",
    ")(EmbeddingInput, mask=EmbeddingInput._keras_mask)\n",
    "# multiply = tf.keras.layers.Multiply(name='multiply')([gru_layer, decay_layer_2])\n",
    "flatten_layer = tf.keras.layers.Flatten(name=\"flatten\")(gru_layer)\n",
    "outputs = Dense(NUM_CLASSES, activation=\"softmax\")(flatten_layer)\n",
    "model = Model(inputs=[EmbeddingInput, TimeInput], outputs=outputs)\n",
    "optimizer = Adam(learning_rate=INIT_LR)\n",
    "model.compile(loss=\"binary_crossentropy\", optimizer=optimizer, metrics=[\"accuracy\"])\n",
    "lr_scheduler = LearningRateScheduler(time_decay)\n",
    "history = model.fit(\n",
    "    [train_data, train_timestamps_padded],\n",
    "    train_labels,\n",
    "    validation_data=([val_data, val_timestamps_padded], val_labels),\n",
    "    epochs=10,\n",
    "    batch_size=32,\n",
    "    callbacks=[lr_scheduler],\n",
    ")\n"
   ]
  },
  {
   "cell_type": "code",
   "execution_count": 60,
   "id": "580999c1-93d8-4687-a4f7-ac640c14410c",
   "metadata": {},
   "outputs": [
    {
     "name": "stdout",
     "output_type": "stream",
     "text": [
      "2/2 [==============================] - 1s 522ms/step - loss: 0.1198 - accuracy: 0.9184\n"
     ]
    },
    {
     "data": {
      "text/plain": [
       "[0.11979472637176514, 0.918367326259613]"
      ]
     },
     "execution_count": 60,
     "metadata": {},
     "output_type": "execute_result"
    }
   ],
   "source": [
    "model.evaluate([test_data, test_timestamps_padded], test_labels)"
   ]
  },
  {
   "cell_type": "code",
   "execution_count": 61,
   "id": "36bd1c2a-ee01-4aaf-a25e-53d737303877",
   "metadata": {},
   "outputs": [
    {
     "name": "stdout",
     "output_type": "stream",
     "text": [
      "2/2 [==============================] - 2s 537ms/step\n",
      "Test AUROC: 0.9140350877192983\n",
      "Test AUPRC: 0.8413703431511109\n",
      "Test Accuracy: 0.9183673469387755\n",
      "Test Recall: 0.9140350877192982\n",
      "Test Precision: 0.9140350877192982\n",
      "Test F1 Score: 0.9140350877192982\n"
     ]
    }
   ],
   "source": [
    "test_preds = model.predict([test_data, test_timestamps_padded])\n",
    "test_preds = np.argmax(test_preds, axis=1)\n",
    "test_f1_score = f1_score(np.argmax(test_labels, axis=1), test_preds, average=\"macro\")\n",
    "from sklearn.metrics import (\n",
    "    roc_auc_score,\n",
    "    average_precision_score,\n",
    "    accuracy_score,\n",
    "    recall_score,\n",
    "    precision_score,\n",
    ")\n",
    "\n",
    "# Calculate AUROC\n",
    "test_auroc = roc_auc_score(np.argmax(test_labels, axis=1), test_preds)\n",
    "# Calculate AUPRC\n",
    "test_auprc = average_precision_score(np.argmax(test_labels, axis=1), test_preds)\n",
    "# Calculate accuracy\n",
    "test_accuracy = accuracy_score(np.argmax(test_labels, axis=1), test_preds)\n",
    "# Calculate recall\n",
    "test_recall = recall_score(np.argmax(test_labels, axis=1), test_preds, average=\"macro\")\n",
    "# Calculate precision\n",
    "test_precision = precision_score(\n",
    "    np.argmax(test_labels, axis=1), test_preds, average=\"macro\"\n",
    ")\n",
    "print(\"Test AUROC:\", test_auroc)\n",
    "print(\"Test AUPRC:\", test_auprc)\n",
    "print(\"Test Accuracy:\", test_accuracy)\n",
    "print(\"Test Recall:\", test_recall)\n",
    "print(\"Test Precision:\", test_precision)\n",
    "print(\"Test F1 Score:\", test_f1_score)"
   ]
  },
  {
   "cell_type": "code",
   "execution_count": null,
   "id": "4c83ca8a-7b9c-4a7f-89aa-b90a13fd25f2",
   "metadata": {},
   "outputs": [],
   "source": [
    "##USE embeds"
   ]
  },
  {
   "cell_type": "code",
   "execution_count": 15,
   "id": "0ca8d690-423f-4649-bcd4-db81a8be7d45",
   "metadata": {},
   "outputs": [
    {
     "name": "stderr",
     "output_type": "stream",
     "text": [
      "2023-05-23 15:32:17.770881: W tensorflow/tsl/framework/cpu_allocator_impl.cc:83] Allocation of 1015562240 exceeds 10% of free system memory.\n"
     ]
    },
    {
     "name": "stdout",
     "output_type": "stream",
     "text": [
      "Epoch 1/10\n",
      "13/13 [==============================] - 32s 2s/step - loss: 0.6368 - accuracy: 0.6480 - val_loss: 0.6495 - val_accuracy: 0.7551 - lr: 0.0010\n",
      "Epoch 2/10\n",
      "13/13 [==============================] - 22s 2s/step - loss: 0.3839 - accuracy: 0.8469 - val_loss: 0.6014 - val_accuracy: 0.7551 - lr: 0.0010\n",
      "Epoch 3/10\n",
      "13/13 [==============================] - 22s 2s/step - loss: 0.2969 - accuracy: 0.8980 - val_loss: 0.5347 - val_accuracy: 0.7551 - lr: 0.0010\n",
      "Epoch 4/10\n",
      "13/13 [==============================] - 22s 2s/step - loss: 0.2683 - accuracy: 0.9005 - val_loss: 0.5757 - val_accuracy: 0.7143 - lr: 0.0010\n",
      "Epoch 5/10\n",
      "13/13 [==============================] - 22s 2s/step - loss: 0.2033 - accuracy: 0.9260 - val_loss: 0.5989 - val_accuracy: 0.7143 - lr: 0.0010\n",
      "Epoch 6/10\n",
      "13/13 [==============================] - 22s 2s/step - loss: 0.1761 - accuracy: 0.9464 - val_loss: 0.8000 - val_accuracy: 0.7959 - lr: 0.0010\n",
      "Epoch 7/10\n",
      "13/13 [==============================] - 22s 2s/step - loss: 0.1840 - accuracy: 0.9311 - val_loss: 0.6396 - val_accuracy: 0.6735 - lr: 0.0010\n",
      "Epoch 8/10\n",
      "13/13 [==============================] - 22s 2s/step - loss: 0.1325 - accuracy: 0.9490 - val_loss: 0.7060 - val_accuracy: 0.7347 - lr: 0.0010\n",
      "Epoch 9/10\n",
      "13/13 [==============================] - 22s 2s/step - loss: 0.1352 - accuracy: 0.9592 - val_loss: 0.7432 - val_accuracy: 0.7551 - lr: 0.0010\n",
      "Epoch 10/10\n",
      "13/13 [==============================] - 22s 2s/step - loss: 0.0795 - accuracy: 0.9872 - val_loss: 0.6796 - val_accuracy: 0.7143 - lr: 1.0000e-04\n",
      "2/2 [==============================] - 2s 629ms/step\n",
      "Test AUROC: 0.7958333333333334\n",
      "Test AUPRC: 0.7420408163265307\n",
      "Test Accuracy: 0.7959183673469388\n",
      "Test Recall: 0.7958333333333334\n",
      "Test Precision: 0.7958333333333334\n",
      "Test F1 Score: 0.7958333333333334\n"
     ]
    }
   ],
   "source": [
    "# Define the input layers\n",
    "EmbeddingInput = Input(shape=(MAX_SEQ_LENGTH, 512), name=\"embeddings\")\n",
    "TimeInput = Input(shape=(MAX_SEQ_LENGTH,), name=\"times\")\n",
    "decay_layer = Lambda(\n",
    "    lambda t: tf.math.exp(-(t - tf.roll(t, shift=1, axis=1)) / 86400),\n",
    "    name=\"decay_layer\",\n",
    ")(TimeInput)\n",
    "decay_layer_2 = tf.expand_dims(decay_layer, axis=-1, name=\"decay_layer_2\")\n",
    "gru_layer = GRU(\n",
    "    GRU_HIDDEN_DIM, dropout=DROPOUT_RATE, return_sequences=True, name=\"gru\"\n",
    ")(EmbeddingInput, mask=EmbeddingInput._keras_mask)\n",
    "# multiply = tf.keras.layers.Multiply(name='multiply')([gru_layer, decay_layer_2])\n",
    "flatten_layer = tf.keras.layers.Flatten(name=\"flatten\")(gru_layer)\n",
    "outputs = Dense(NUM_CLASSES, activation=\"softmax\")(flatten_layer)\n",
    "model = Model(inputs=[EmbeddingInput, TimeInput], outputs=outputs)\n",
    "optimizer = Adam(learning_rate=INIT_LR)\n",
    "model.compile(loss=\"binary_crossentropy\", optimizer=optimizer, metrics=[\"accuracy\"])\n",
    "lr_scheduler = LearningRateScheduler(time_decay)\n",
    "history = model.fit(\n",
    "    [train_data_use, train_timestamps_padded],\n",
    "    train_labels,\n",
    "    validation_data=([val_data_use, val_timestamps_padded], val_labels),\n",
    "    epochs=10,\n",
    "    batch_size=32,\n",
    "    callbacks=[lr_scheduler],\n",
    ")\n",
    "test_preds = model.predict([test_data_use, test_timestamps_padded])\n",
    "test_preds = np.argmax(test_preds, axis=1)\n",
    "test_f1_score = f1_score(np.argmax(test_labels, axis=1), test_preds, average=\"macro\")\n",
    "test_auroc = roc_auc_score(np.argmax(test_labels, axis=1), test_preds)\n",
    "test_auprc = average_precision_score(np.argmax(test_labels, axis=1), test_preds)\n",
    "test_accuracy = accuracy_score(np.argmax(test_labels, axis=1), test_preds)\n",
    "test_recall = recall_score(np.argmax(test_labels, axis=1), test_preds, average=\"macro\")\n",
    "test_precision = precision_score(\n",
    "    np.argmax(test_labels, axis=1), test_preds, average=\"macro\"\n",
    ")\n",
    "print(\"Test AUROC:\", test_auroc)\n",
    "print(\"Test AUPRC:\", test_auprc)\n",
    "print(\"Test Accuracy:\", test_accuracy)\n",
    "print(\"Test Recall:\", test_recall)\n",
    "print(\"Test Precision:\", test_precision)\n",
    "print(\"Test F1 Score:\", test_f1_score)\n"
   ]
  },
  {
   "cell_type": "code",
   "execution_count": null,
   "id": "3d129004-59b3-498b-bc35-a5bf10545604",
   "metadata": {},
   "outputs": [],
   "source": [
    "## Emotional LSTM"
   ]
  },
  {
   "cell_type": "code",
   "execution_count": 41,
   "id": "de06b956-561d-4f4a-8c8a-ea55b11fcfc2",
   "metadata": {},
   "outputs": [
    {
     "name": "stdout",
     "output_type": "stream",
     "text": [
      "/var/lib/oar/.batch_job_bashrc: line 5: /home/aparfenova/.bashrc: No such file or directory\n"
     ]
    }
   ],
   "source": [
    "!mkdir -p checkpoints"
   ]
  },
  {
   "cell_type": "code",
   "execution_count": 64,
   "id": "2dce011d-5d98-4c32-8113-0c8776fc7fc8",
   "metadata": {},
   "outputs": [],
   "source": [
    "checkpoint_filepath = './checkpoints'\n",
    "model_checkpoint_callback = tf.keras.callbacks.ModelCheckpoint(\n",
    "    filepath=checkpoint_filepath,\n",
    "    save_weights_only=True,\n",
    "    monitor='val_accuracy',\n",
    "    mode='max',\n",
    "    save_best_only=True)"
   ]
  },
  {
   "cell_type": "code",
   "execution_count": null,
   "id": "ac989acc-0cb7-408e-bb93-5d708458ff1b",
   "metadata": {},
   "outputs": [],
   "source": [
    "# 42 RS"
   ]
  },
  {
   "cell_type": "code",
   "execution_count": 24,
   "id": "fc5ff854-5600-4f70-ba09-2c65ad8a11f9",
   "metadata": {},
   "outputs": [
    {
     "name": "stderr",
     "output_type": "stream",
     "text": [
      "2023-06-05 17:42:29.461062: W tensorflow/tsl/framework/cpu_allocator_impl.cc:83] Allocation of 1523343360 exceeds 10% of free system memory.\n"
     ]
    },
    {
     "name": "stdout",
     "output_type": "stream",
     "text": [
      "Epoch 1/10\n",
      "13/13 [==============================] - 46s 3s/step - loss: 0.7021 - accuracy: 0.6301 - val_loss: 0.7270 - val_accuracy: 0.4898 - lr: 0.0010\n",
      "Epoch 2/10\n",
      "13/13 [==============================] - 40s 3s/step - loss: 0.5951 - accuracy: 0.7219 - val_loss: 0.5072 - val_accuracy: 0.8571 - lr: 0.0010\n",
      "Epoch 3/10\n",
      "13/13 [==============================] - 38s 3s/step - loss: 0.6171 - accuracy: 0.7194 - val_loss: 0.4222 - val_accuracy: 0.8367 - lr: 0.0010\n",
      "Epoch 4/10\n",
      "13/13 [==============================] - 38s 3s/step - loss: 0.3796 - accuracy: 0.8750 - val_loss: 0.2495 - val_accuracy: 0.9388 - lr: 0.0010\n",
      "Epoch 5/10\n",
      "13/13 [==============================] - 38s 3s/step - loss: 0.4187 - accuracy: 0.8393 - val_loss: 0.2344 - val_accuracy: 0.9388 - lr: 0.0010\n",
      "Epoch 6/10\n",
      "13/13 [==============================] - 37s 3s/step - loss: 0.4527 - accuracy: 0.8367 - val_loss: 0.2915 - val_accuracy: 0.9388 - lr: 0.0010\n",
      "Epoch 7/10\n",
      "13/13 [==============================] - 38s 3s/step - loss: 0.3274 - accuracy: 0.8801 - val_loss: 0.2276 - val_accuracy: 0.9388 - lr: 0.0010\n",
      "Epoch 8/10\n",
      "13/13 [==============================] - 37s 3s/step - loss: 0.3112 - accuracy: 0.8776 - val_loss: 0.1978 - val_accuracy: 0.9592 - lr: 0.0010\n",
      "Epoch 9/10\n",
      "13/13 [==============================] - 37s 3s/step - loss: 0.2381 - accuracy: 0.9031 - val_loss: 0.1719 - val_accuracy: 0.9388 - lr: 0.0010\n",
      "Epoch 10/10\n",
      "13/13 [==============================] - 37s 3s/step - loss: 0.1976 - accuracy: 0.9362 - val_loss: 0.1898 - val_accuracy: 0.9388 - lr: 1.0000e-04\n"
     ]
    }
   ],
   "source": [
    "train_emobed_data = np.squeeze(train_emobed_data)\n",
    "val_data_emobed = np.squeeze(val_data_emobed)\n",
    "test_data_emobed = np.squeeze(test_data_emobed)\n",
    "\n",
    "\n",
    "# Define the time decay function\n",
    "def time_decay(epoch):\n",
    "    lrate = INIT_LR * pow(DECAY_FACTOR, np.floor((1 + epoch) / DECAY_EPOCHS))\n",
    "    return lrate\n",
    "\n",
    "\n",
    "from sklearn.metrics import (\n",
    "    roc_auc_score,\n",
    "    average_precision_score,\n",
    "    accuracy_score,\n",
    "    recall_score,\n",
    "    precision_score,\n",
    ")\n",
    "\n",
    "# Define the input layers\n",
    "EmbeddingInput = Input(shape=(MAX_SEQ_LENGTH, 768), name=\"embeddings\")\n",
    "EmotionInput = Input(shape=(MAX_SEQ_LENGTH, 7), name=\"EmotionInput\")\n",
    "TimeInput = Input(shape=(MAX_SEQ_LENGTH,), name=\"times\")\n",
    "decay_layer = Lambda(\n",
    "    lambda t: tf.math.exp(-(t - tf.roll(t, shift=1, axis=1)) / 86400),\n",
    "    name=\"decay_layer\",\n",
    ")(TimeInput)\n",
    "decay_layer_2 = tf.expand_dims(decay_layer, axis=-1, name=\"decay_layer_2\")\n",
    "lstm_layer = LSTM(\n",
    "    LSTM_HIDDEN_DIM, dropout=DROPOUT_RATE, return_sequences=True, name=\"lstm\"\n",
    ")(EmbeddingInput, mask=EmbeddingInput._keras_mask)\n",
    "lstm_layer_emotion = LSTM(\n",
    "    LSTM_HIDDEN_DIM, dropout=DROPOUT_RATE, return_sequences=True, name=\"lstm2\"\n",
    ")(EmotionInput, mask=EmotionInput._keras_mask)\n",
    "multiply = tf.keras.layers.Multiply(name=\"multiply\")(\n",
    "    [lstm_layer, lstm_layer_emotion, decay_layer_2]\n",
    ")\n",
    "flatten_layer = tf.keras.layers.Flatten(name=\"flatten\")(multiply)\n",
    "outputs = Dense(NUM_CLASSES, activation=\"softmax\")(flatten_layer)\n",
    "model = Model(inputs=[EmbeddingInput, TimeInput, EmotionInput], outputs=outputs)\n",
    "optimizer = Adam(learning_rate=INIT_LR)\n",
    "model.compile(loss=\"binary_crossentropy\", optimizer=optimizer, metrics=[\"accuracy\"])\n",
    "lr_scheduler = LearningRateScheduler(time_decay)\n",
    "history = model.fit(\n",
    "    [train_data, train_timestamps_padded, train_emobed_data],\n",
    "    train_labels,\n",
    "    validation_data=([val_data, val_timestamps_padded, val_data_emobed], val_labels),\n",
    "    epochs=10,\n",
    "    batch_size=32,\n",
    "    callbacks=[lr_scheduler],\n",
    ")\n"
   ]
  },
  {
   "cell_type": "code",
   "execution_count": 25,
   "id": "2e8ef2bf-be23-44cc-a437-59b37ee92f76",
   "metadata": {},
   "outputs": [
    {
     "name": "stdout",
     "output_type": "stream",
     "text": [
      "2/2 [==============================] - 3s 679ms/step\n",
      "Test AUROC: 0.9383333333333334\n",
      "Test AUPRC: 0.9065620094191523\n",
      "Test Accuracy: 0.9387755102040817\n",
      "Test Recall: 0.9383333333333332\n",
      "Test Precision: 0.939799331103679\n",
      "Test F1 Score: 0.9386733416770963\n"
     ]
    }
   ],
   "source": [
    "test_preds = model.predict([test_data, test_timestamps_padded, test_data_emobed])\n",
    "test_preds = np.argmax(test_preds, axis=1)\n",
    "test_f1_score = f1_score(np.argmax(test_labels, axis=1), test_preds, average=\"macro\")\n",
    "test_auroc = roc_auc_score(np.argmax(test_labels, axis=1), test_preds)\n",
    "test_auprc = average_precision_score(np.argmax(test_labels, axis=1), test_preds)\n",
    "test_accuracy = accuracy_score(np.argmax(test_labels, axis=1), test_preds)\n",
    "test_recall = recall_score(np.argmax(test_labels, axis=1), test_preds, average=\"macro\")\n",
    "test_precision = precision_score(\n",
    "    np.argmax(test_labels, axis=1), test_preds, average=\"macro\"\n",
    ")\n",
    "print(\"Test AUROC:\", test_auroc)\n",
    "print(\"Test AUPRC:\", test_auprc)\n",
    "print(\"Test Accuracy:\", test_accuracy)\n",
    "print(\"Test Recall:\", test_recall)\n",
    "print(\"Test Precision:\", test_precision)\n",
    "print(\"Test F1 Score:\", test_f1_score)\n"
   ]
  },
  {
   "cell_type": "code",
   "execution_count": null,
   "id": "c5e3962a-d6f5-4bb1-9dde-685671dcb2e3",
   "metadata": {},
   "outputs": [],
   "source": [
    "# 0 RS"
   ]
  },
  {
   "cell_type": "code",
   "execution_count": 38,
   "id": "a47647d6-2370-4d57-904e-cc630ebee6f0",
   "metadata": {},
   "outputs": [
    {
     "name": "stdout",
     "output_type": "stream",
     "text": [
      "Epoch 1/7\n",
      "13/13 [==============================] - 41s 3s/step - loss: 0.6636 - accuracy: 0.6097 - val_loss: 0.6323 - val_accuracy: 0.6327 - lr: 0.0010\n",
      "Epoch 2/7\n",
      "13/13 [==============================] - 36s 3s/step - loss: 0.5934 - accuracy: 0.7526 - val_loss: 0.5697 - val_accuracy: 0.8367 - lr: 0.0010\n",
      "Epoch 3/7\n",
      "13/13 [==============================] - 35s 3s/step - loss: 0.5440 - accuracy: 0.7832 - val_loss: 0.4490 - val_accuracy: 0.8776 - lr: 0.0010\n",
      "Epoch 4/7\n",
      "13/13 [==============================] - 35s 3s/step - loss: 0.4248 - accuracy: 0.8367 - val_loss: 0.3163 - val_accuracy: 0.8980 - lr: 0.0010\n",
      "Epoch 5/7\n",
      "13/13 [==============================] - 35s 3s/step - loss: 0.3300 - accuracy: 0.8878 - val_loss: 0.2577 - val_accuracy: 0.8980 - lr: 0.0010\n",
      "Epoch 6/7\n",
      "13/13 [==============================] - 37s 3s/step - loss: 0.2724 - accuracy: 0.9133 - val_loss: 0.2133 - val_accuracy: 0.9388 - lr: 0.0010\n",
      "Epoch 7/7\n",
      "13/13 [==============================] - 36s 3s/step - loss: 0.2413 - accuracy: 0.9209 - val_loss: 0.2132 - val_accuracy: 0.8980 - lr: 0.0010\n",
      "2/2 [==============================] - 3s 616ms/step\n",
      "Test AUROC: 0.9345238095238094\n",
      "Test AUPRC: 0.9003401360544218\n",
      "Test Accuracy: 0.9387755102040817\n",
      "Test Recall: 0.9345238095238095\n",
      "Test Precision: 0.9405172413793104\n",
      "Test F1 Score: 0.9370988446726572\n"
     ]
    }
   ],
   "source": [
    "# train_emobed_data = np.squeeze(train_emobed_data)\n",
    "# val_data_emobed = np.squeeze(val_data_emobed)\n",
    "# test_data_emobed = np.squeeze(test_data_emobed)\n",
    "EmbeddingInput = Input(shape=(MAX_SEQ_LENGTH, 768), name=\"embeddings\")\n",
    "EmotionInput = Input(shape=(MAX_SEQ_LENGTH, 7), name=\"EmotionInput\")\n",
    "TimeInput = Input(shape=(MAX_SEQ_LENGTH,), name=\"times\")\n",
    "decay_layer = Lambda(\n",
    "    lambda t: tf.math.exp(-(t - tf.roll(t, shift=1, axis=1)) / 86400),\n",
    "    name=\"decay_layer\",\n",
    ")(TimeInput)\n",
    "decay_layer_2 = tf.expand_dims(decay_layer, axis=-1, name=\"decay_layer_2\")\n",
    "lstm_layer = LSTM(\n",
    "    LSTM_HIDDEN_DIM, dropout=DROPOUT_RATE, return_sequences=True, name=\"lstm\"\n",
    ")(EmbeddingInput, mask=EmbeddingInput._keras_mask)\n",
    "lstm_layer_emotion = LSTM(\n",
    "    LSTM_HIDDEN_DIM, dropout=DROPOUT_RATE, return_sequences=True, name=\"lstm2\"\n",
    ")(EmotionInput, mask=EmotionInput._keras_mask)\n",
    "multiply = tf.keras.layers.Multiply(name=\"multiply\")(\n",
    "    [lstm_layer, lstm_layer_emotion, decay_layer_2]\n",
    ")\n",
    "flatten_layer = tf.keras.layers.Flatten(name=\"flatten\")(multiply)\n",
    "outputs = Dense(NUM_CLASSES, activation=\"softmax\")(flatten_layer)\n",
    "model = Model(inputs=[EmbeddingInput, TimeInput, EmotionInput], outputs=outputs)\n",
    "optimizer = Adam(learning_rate=INIT_LR)\n",
    "model.compile(loss=\"binary_crossentropy\", optimizer=optimizer, metrics=[\"accuracy\"])\n",
    "lr_scheduler = LearningRateScheduler(time_decay)\n",
    "history = model.fit(\n",
    "    [train_data, train_timestamps_padded, train_emobed_data],\n",
    "    train_labels,\n",
    "    validation_data=([val_data, val_timestamps_padded, val_data_emobed], val_labels),\n",
    "    epochs=7,\n",
    "    batch_size=32,\n",
    "    callbacks=[lr_scheduler],\n",
    ")\n",
    "test_preds = model.predict([test_data, test_timestamps_padded, test_data_emobed])\n",
    "test_preds = np.argmax(test_preds, axis=1)\n",
    "test_f1_score = f1_score(np.argmax(test_labels, axis=1), test_preds, average=\"macro\")\n",
    "test_auroc = roc_auc_score(np.argmax(test_labels, axis=1), test_preds)\n",
    "test_auprc = average_precision_score(np.argmax(test_labels, axis=1), test_preds)\n",
    "test_accuracy = accuracy_score(np.argmax(test_labels, axis=1), test_preds)\n",
    "test_recall = recall_score(np.argmax(test_labels, axis=1), test_preds, average=\"macro\")\n",
    "test_precision = precision_score(\n",
    "    np.argmax(test_labels, axis=1), test_preds, average=\"macro\"\n",
    ")\n",
    "print(\"Test AUROC:\", test_auroc)\n",
    "print(\"Test AUPRC:\", test_auprc)\n",
    "print(\"Test Accuracy:\", test_accuracy)\n",
    "print(\"Test Recall:\", test_recall)\n",
    "print(\"Test Precision:\", test_precision)\n",
    "print(\"Test F1 Score:\", test_f1_score)\n"
   ]
  },
  {
   "cell_type": "code",
   "execution_count": null,
   "id": "5f03166a-f204-4b3d-b222-d250b87f9134",
   "metadata": {},
   "outputs": [],
   "source": [
    "#420 RS"
   ]
  },
  {
   "cell_type": "code",
   "execution_count": 47,
   "id": "711fc065-0128-4598-8ac2-4b9a1c2600f2",
   "metadata": {},
   "outputs": [
    {
     "name": "stdout",
     "output_type": "stream",
     "text": [
      "Epoch 1/12\n",
      "13/13 [==============================] - 41s 3s/step - loss: 0.7207 - accuracy: 0.6250 - val_loss: 0.7574 - val_accuracy: 0.6122 - lr: 0.0010\n",
      "Epoch 2/12\n",
      "13/13 [==============================] - 35s 3s/step - loss: 0.6940 - accuracy: 0.5612 - val_loss: 0.6847 - val_accuracy: 0.7143 - lr: 0.0010\n",
      "Epoch 3/12\n",
      "13/13 [==============================] - 35s 3s/step - loss: 0.6537 - accuracy: 0.6786 - val_loss: 0.5919 - val_accuracy: 0.7959 - lr: 0.0010\n",
      "Epoch 4/12\n",
      "13/13 [==============================] - 35s 3s/step - loss: 0.5642 - accuracy: 0.7832 - val_loss: 0.5334 - val_accuracy: 0.7347 - lr: 0.0010\n",
      "Epoch 5/12\n",
      "13/13 [==============================] - 36s 3s/step - loss: 0.5795 - accuracy: 0.6939 - val_loss: 0.5093 - val_accuracy: 0.7959 - lr: 0.0010\n",
      "Epoch 6/12\n",
      "13/13 [==============================] - 36s 3s/step - loss: 0.4352 - accuracy: 0.8597 - val_loss: 0.6976 - val_accuracy: 0.8163 - lr: 0.0010\n",
      "Epoch 7/12\n",
      "13/13 [==============================] - 35s 3s/step - loss: 0.4827 - accuracy: 0.8265 - val_loss: 0.3827 - val_accuracy: 0.8367 - lr: 0.0010\n",
      "Epoch 8/12\n",
      "13/13 [==============================] - 36s 3s/step - loss: 0.3153 - accuracy: 0.8878 - val_loss: 0.4106 - val_accuracy: 0.8776 - lr: 0.0010\n",
      "Epoch 9/12\n",
      "13/13 [==============================] - 35s 3s/step - loss: 0.2546 - accuracy: 0.8878 - val_loss: 0.5643 - val_accuracy: 0.7959 - lr: 0.0010\n",
      "Epoch 10/12\n",
      "13/13 [==============================] - 36s 3s/step - loss: 0.2686 - accuracy: 0.8776 - val_loss: 0.3213 - val_accuracy: 0.8776 - lr: 1.0000e-04\n",
      "Epoch 11/12\n",
      "13/13 [==============================] - 36s 3s/step - loss: 0.2262 - accuracy: 0.9107 - val_loss: 0.3465 - val_accuracy: 0.8776 - lr: 1.0000e-04\n",
      "Epoch 12/12\n",
      "13/13 [==============================] - 35s 3s/step - loss: 0.1947 - accuracy: 0.9184 - val_loss: 0.3793 - val_accuracy: 0.8776 - lr: 1.0000e-04\n",
      "2/2 [==============================] - 2s 595ms/step\n",
      "Test AUROC: 0.9077586206896553\n",
      "Test AUPRC: 0.8924882522530704\n",
      "Test Accuracy: 0.9183673469387755\n",
      "Test Recall: 0.9077586206896552\n",
      "Test Precision: 0.9238351254480286\n",
      "Test F1 Score: 0.9140350877192982\n"
     ]
    }
   ],
   "source": [
    "train_emobed_data = np.squeeze(train_emobed_data)\n",
    "val_data_emobed = np.squeeze(val_data_emobed)\n",
    "test_data_emobed = np.squeeze(test_data_emobed)\n",
    "EmbeddingInput = Input(shape=(MAX_SEQ_LENGTH, 768), name=\"embeddings\")\n",
    "EmotionInput = Input(shape=(MAX_SEQ_LENGTH, 7), name=\"EmotionInput\")\n",
    "TimeInput = Input(shape=(MAX_SEQ_LENGTH,), name=\"times\")\n",
    "decay_layer = Lambda(\n",
    "    lambda t: tf.math.exp(-(t - tf.roll(t, shift=1, axis=1)) / 86400),\n",
    "    name=\"decay_layer\",\n",
    ")(TimeInput)\n",
    "decay_layer_2 = tf.expand_dims(decay_layer, axis=-1, name=\"decay_layer_2\")\n",
    "lstm_layer = LSTM(\n",
    "    LSTM_HIDDEN_DIM, dropout=DROPOUT_RATE, return_sequences=True, name=\"lstm\"\n",
    ")(EmbeddingInput, mask=EmbeddingInput._keras_mask)\n",
    "lstm_layer_emotion = LSTM(\n",
    "    LSTM_HIDDEN_DIM, dropout=DROPOUT_RATE, return_sequences=True, name=\"lstm2\"\n",
    ")(EmotionInput, mask=EmotionInput._keras_mask)\n",
    "multiply = tf.keras.layers.Multiply(name=\"multiply\")(\n",
    "    [lstm_layer, lstm_layer_emotion, decay_layer_2]\n",
    ")\n",
    "flatten_layer = tf.keras.layers.Flatten(name=\"flatten\")(multiply)\n",
    "outputs = Dense(NUM_CLASSES, activation=\"softmax\")(flatten_layer)\n",
    "model = Model(inputs=[EmbeddingInput, TimeInput, EmotionInput], outputs=outputs)\n",
    "optimizer = Adam(learning_rate=INIT_LR)\n",
    "model.compile(loss=\"binary_crossentropy\", optimizer=optimizer, metrics=[\"accuracy\"])\n",
    "lr_scheduler = LearningRateScheduler(time_decay)\n",
    "history = model.fit(\n",
    "    [train_data, train_timestamps_padded, train_emobed_data],\n",
    "    train_labels,\n",
    "    validation_data=([val_data, val_timestamps_padded, val_data_emobed], val_labels),\n",
    "    epochs=12,\n",
    "    batch_size=32,\n",
    "    callbacks=[lr_scheduler],\n",
    ")\n",
    "test_preds = model.predict([test_data, test_timestamps_padded, test_data_emobed])\n",
    "test_preds = np.argmax(test_preds, axis=1)\n",
    "test_f1_score = f1_score(np.argmax(test_labels, axis=1), test_preds, average=\"macro\")\n",
    "test_auroc = roc_auc_score(np.argmax(test_labels, axis=1), test_preds)\n",
    "test_auprc = average_precision_score(np.argmax(test_labels, axis=1), test_preds)\n",
    "test_accuracy = accuracy_score(np.argmax(test_labels, axis=1), test_preds)\n",
    "test_recall = recall_score(np.argmax(test_labels, axis=1), test_preds, average=\"macro\")\n",
    "test_precision = precision_score(\n",
    "    np.argmax(test_labels, axis=1), test_preds, average=\"macro\"\n",
    ")\n",
    "print(\"Test AUROC:\", test_auroc)\n",
    "print(\"Test AUPRC:\", test_auprc)\n",
    "print(\"Test Accuracy:\", test_accuracy)\n",
    "print(\"Test Recall:\", test_recall)\n",
    "print(\"Test Precision:\", test_precision)\n",
    "print(\"Test F1 Score:\", test_f1_score)\n"
   ]
  },
  {
   "cell_type": "code",
   "execution_count": 48,
   "id": "471069bf-0457-4402-b2b1-85b4801102fa",
   "metadata": {},
   "outputs": [
    {
     "name": "stdout",
     "output_type": "stream",
     "text": [
      "Epoch 1/5\n",
      "13/13 [==============================] - 48s 3s/step - loss: 0.6654 - accuracy: 0.6199 - val_loss: 5.9703 - val_accuracy: 0.5306 - lr: 0.0010\n",
      "Epoch 2/5\n",
      "13/13 [==============================] - 35s 3s/step - loss: 1.1396 - accuracy: 0.5587 - val_loss: 0.6814 - val_accuracy: 0.7347 - lr: 0.0010\n",
      "Epoch 3/5\n",
      "13/13 [==============================] - 36s 3s/step - loss: 0.6834 - accuracy: 0.7270 - val_loss: 0.6624 - val_accuracy: 0.7959 - lr: 0.0010\n",
      "Epoch 4/5\n",
      "13/13 [==============================] - 36s 3s/step - loss: 0.6344 - accuracy: 0.7602 - val_loss: 0.5349 - val_accuracy: 0.8163 - lr: 0.0010\n",
      "Epoch 5/5\n",
      "13/13 [==============================] - 35s 3s/step - loss: 0.4735 - accuracy: 0.8546 - val_loss: 0.5958 - val_accuracy: 0.8163 - lr: 0.0010\n",
      "2/2 [==============================] - 3s 611ms/step\n",
      "Test AUROC: 0.8077586206896552\n",
      "Test AUPRC: 0.7928219563687545\n",
      "Test Accuracy: 0.8367346938775511\n",
      "Test Recall: 0.8077586206896552\n",
      "Test Precision: 0.8642857142857143\n",
      "Test F1 Score: 0.8198529411764707\n",
      "Epoch 1/6\n",
      "13/13 [==============================] - 41s 3s/step - loss: 0.6784 - accuracy: 0.5918 - val_loss: 0.6108 - val_accuracy: 0.7959 - lr: 0.0010\n",
      "Epoch 2/6\n",
      "13/13 [==============================] - 36s 3s/step - loss: 0.6333 - accuracy: 0.8087 - val_loss: 0.6095 - val_accuracy: 0.7143 - lr: 0.0010\n",
      "Epoch 3/6\n",
      "13/13 [==============================] - 36s 3s/step - loss: 0.6296 - accuracy: 0.6990 - val_loss: 0.5634 - val_accuracy: 0.7755 - lr: 0.0010\n",
      "Epoch 4/6\n",
      "13/13 [==============================] - 35s 3s/step - loss: 0.4239 - accuracy: 0.8393 - val_loss: 0.4622 - val_accuracy: 0.8163 - lr: 0.0010\n",
      "Epoch 5/6\n",
      "13/13 [==============================] - 35s 3s/step - loss: 0.3567 - accuracy: 0.8418 - val_loss: 0.5998 - val_accuracy: 0.7143 - lr: 0.0010\n",
      "Epoch 6/6\n",
      "13/13 [==============================] - 35s 3s/step - loss: 0.5175 - accuracy: 0.7423 - val_loss: 0.4112 - val_accuracy: 0.8367 - lr: 0.0010\n",
      "2/2 [==============================] - 3s 580ms/step\n",
      "Test AUROC: 0.9232758620689655\n",
      "Test AUPRC: 0.9245705945213334\n",
      "Test Accuracy: 0.9183673469387755\n",
      "Test Recall: 0.9232758620689655\n",
      "Test Precision: 0.9132996632996633\n",
      "Test F1 Score: 0.9166666666666667\n",
      "Epoch 1/7\n",
      "13/13 [==============================] - 41s 3s/step - loss: 0.6663 - accuracy: 0.5561 - val_loss: 5.6558 - val_accuracy: 0.5918 - lr: 0.0010\n",
      "Epoch 2/7\n",
      "13/13 [==============================] - 36s 3s/step - loss: 1.0389 - accuracy: 0.5995 - val_loss: 0.6848 - val_accuracy: 0.7347 - lr: 0.0010\n",
      "Epoch 3/7\n",
      "13/13 [==============================] - 36s 3s/step - loss: 0.6794 - accuracy: 0.6964 - val_loss: 0.6698 - val_accuracy: 0.7143 - lr: 0.0010\n",
      "Epoch 4/7\n",
      "13/13 [==============================] - 35s 3s/step - loss: 0.6020 - accuracy: 0.7959 - val_loss: 0.6860 - val_accuracy: 0.7551 - lr: 0.0010\n",
      "Epoch 5/7\n",
      "13/13 [==============================] - 35s 3s/step - loss: 0.4674 - accuracy: 0.8495 - val_loss: 0.4144 - val_accuracy: 0.8980 - lr: 0.0010\n",
      "Epoch 6/7\n",
      "13/13 [==============================] - 35s 3s/step - loss: 0.3678 - accuracy: 0.8776 - val_loss: 0.3513 - val_accuracy: 0.8776 - lr: 0.0010\n",
      "Epoch 7/7\n",
      "13/13 [==============================] - 35s 3s/step - loss: 0.3157 - accuracy: 0.8878 - val_loss: 0.4736 - val_accuracy: 0.8367 - lr: 0.0010\n",
      "2/2 [==============================] - 3s 604ms/step\n",
      "Test AUROC: 0.8327586206896551\n",
      "Test AUPRC: 0.8155400091070911\n",
      "Test Accuracy: 0.8571428571428571\n",
      "Test Recall: 0.8327586206896551\n",
      "Test Precision: 0.8784313725490196\n",
      "Test F1 Score: 0.8444444444444446\n",
      "Epoch 1/8\n",
      "13/13 [==============================] - 41s 3s/step - loss: 0.6884 - accuracy: 0.5714 - val_loss: 0.6085 - val_accuracy: 0.7959 - lr: 0.0010\n",
      "Epoch 2/8\n",
      "13/13 [==============================] - 35s 3s/step - loss: 0.6689 - accuracy: 0.6888 - val_loss: 0.6699 - val_accuracy: 0.7347 - lr: 0.0010\n",
      "Epoch 3/8\n",
      "13/13 [==============================] - 36s 3s/step - loss: 0.5768 - accuracy: 0.7857 - val_loss: 0.4309 - val_accuracy: 0.8776 - lr: 0.0010\n",
      "Epoch 4/8\n",
      "13/13 [==============================] - 35s 3s/step - loss: 0.5414 - accuracy: 0.8087 - val_loss: 0.4795 - val_accuracy: 0.8367 - lr: 0.0010\n",
      "Epoch 5/8\n",
      "13/13 [==============================] - 35s 3s/step - loss: 0.3968 - accuracy: 0.8852 - val_loss: 0.3450 - val_accuracy: 0.8367 - lr: 0.0010\n",
      "Epoch 6/8\n",
      "13/13 [==============================] - 35s 3s/step - loss: 0.3038 - accuracy: 0.8980 - val_loss: 0.4343 - val_accuracy: 0.8163 - lr: 0.0010\n",
      "Epoch 7/8\n",
      "13/13 [==============================] - 35s 3s/step - loss: 0.3949 - accuracy: 0.8648 - val_loss: 0.4439 - val_accuracy: 0.7551 - lr: 0.0010\n",
      "Epoch 8/8\n",
      "13/13 [==============================] - 35s 3s/step - loss: 0.3185 - accuracy: 0.8724 - val_loss: 0.3683 - val_accuracy: 0.8980 - lr: 0.0010\n",
      "2/2 [==============================] - 3s 860ms/step\n",
      "Test AUROC: 0.9\n",
      "Test AUPRC: 0.8787878787878788\n",
      "Test Accuracy: 0.9183673469387755\n",
      "Test Recall: 0.9\n",
      "Test Precision: 0.9393939393939394\n",
      "Test F1 Score: 0.9121863799283154\n",
      "Epoch 1/9\n",
      "13/13 [==============================] - 40s 3s/step - loss: 0.6892 - accuracy: 0.5969 - val_loss: 0.7200 - val_accuracy: 0.5510 - lr: 0.0010\n",
      "Epoch 2/9\n",
      "13/13 [==============================] - 35s 3s/step - loss: 0.6857 - accuracy: 0.5969 - val_loss: 0.6280 - val_accuracy: 0.7755 - lr: 0.0010\n",
      "Epoch 3/9\n",
      "13/13 [==============================] - 35s 3s/step - loss: 0.4615 - accuracy: 0.8622 - val_loss: 0.5744 - val_accuracy: 0.8367 - lr: 0.0010\n",
      "Epoch 4/9\n",
      "13/13 [==============================] - 35s 3s/step - loss: 0.3474 - accuracy: 0.8827 - val_loss: 0.2799 - val_accuracy: 0.8980 - lr: 0.0010\n",
      "Epoch 5/9\n",
      "13/13 [==============================] - 36s 3s/step - loss: 0.2994 - accuracy: 0.8827 - val_loss: 0.3349 - val_accuracy: 0.8367 - lr: 0.0010\n",
      "Epoch 6/9\n",
      "13/13 [==============================] - 35s 3s/step - loss: 0.2807 - accuracy: 0.9107 - val_loss: 0.3262 - val_accuracy: 0.8980 - lr: 0.0010\n",
      "Epoch 7/9\n",
      "13/13 [==============================] - 35s 3s/step - loss: 0.2435 - accuracy: 0.9056 - val_loss: 0.2192 - val_accuracy: 0.9184 - lr: 0.0010\n",
      "Epoch 8/9\n",
      "13/13 [==============================] - 35s 3s/step - loss: 0.1952 - accuracy: 0.9388 - val_loss: 0.2707 - val_accuracy: 0.9388 - lr: 0.0010\n",
      "Epoch 9/9\n",
      "13/13 [==============================] - 35s 3s/step - loss: 0.2146 - accuracy: 0.9158 - val_loss: 0.3529 - val_accuracy: 0.8776 - lr: 0.0010\n",
      "2/2 [==============================] - 2s 597ms/step\n",
      "Test AUROC: 0.875\n",
      "Test AUPRC: 0.8529411764705882\n",
      "Test Accuracy: 0.8979591836734694\n",
      "Test Recall: 0.875\n",
      "Test Precision: 0.9264705882352942\n",
      "Test F1 Score: 0.8888888888888888\n",
      "Epoch 1/10\n",
      "13/13 [==============================] - 43s 3s/step - loss: 0.6793 - accuracy: 0.6990 - val_loss: 0.6135 - val_accuracy: 0.8163 - lr: 0.0010\n",
      "Epoch 2/10\n",
      "13/13 [==============================] - 35s 3s/step - loss: 0.5597 - accuracy: 0.8240 - val_loss: 0.4458 - val_accuracy: 0.8571 - lr: 0.0010\n",
      "Epoch 3/10\n",
      "13/13 [==============================] - 35s 3s/step - loss: 0.3964 - accuracy: 0.8648 - val_loss: 0.4110 - val_accuracy: 0.8163 - lr: 0.0010\n",
      "Epoch 4/10\n",
      "13/13 [==============================] - 36s 3s/step - loss: 0.3813 - accuracy: 0.8776 - val_loss: 0.4221 - val_accuracy: 0.8776 - lr: 0.0010\n",
      "Epoch 5/10\n",
      "13/13 [==============================] - 35s 3s/step - loss: 0.3020 - accuracy: 0.8954 - val_loss: 0.5063 - val_accuracy: 0.8163 - lr: 0.0010\n",
      "Epoch 6/10\n",
      "13/13 [==============================] - 35s 3s/step - loss: 0.2556 - accuracy: 0.9286 - val_loss: 0.3642 - val_accuracy: 0.8776 - lr: 0.0010\n",
      "Epoch 7/10\n",
      "13/13 [==============================] - 35s 3s/step - loss: 0.2242 - accuracy: 0.9133 - val_loss: 0.4629 - val_accuracy: 0.8776 - lr: 0.0010\n",
      "Epoch 8/10\n",
      "13/13 [==============================] - 36s 3s/step - loss: 0.2319 - accuracy: 0.9082 - val_loss: 0.4473 - val_accuracy: 0.8776 - lr: 0.0010\n",
      "Epoch 9/10\n",
      "13/13 [==============================] - 35s 3s/step - loss: 0.1555 - accuracy: 0.9464 - val_loss: 0.5282 - val_accuracy: 0.8980 - lr: 0.0010\n",
      "Epoch 10/10\n",
      "13/13 [==============================] - 35s 3s/step - loss: 0.1272 - accuracy: 0.9541 - val_loss: 0.3464 - val_accuracy: 0.8980 - lr: 1.0000e-04\n",
      "2/2 [==============================] - 3s 602ms/step\n",
      "Test AUROC: 0.975\n",
      "Test AUPRC: 0.9666666666666667\n",
      "Test Accuracy: 0.9795918367346939\n",
      "Test Recall: 0.975\n",
      "Test Precision: 0.9833333333333334\n",
      "Test F1 Score: 0.9787049109083007\n",
      "Epoch 1/11\n",
      "13/13 [==============================] - 41s 3s/step - loss: 0.6797 - accuracy: 0.5995 - val_loss: 0.5715 - val_accuracy: 0.7755 - lr: 0.0010\n",
      "Epoch 2/11\n",
      "13/13 [==============================] - 36s 3s/step - loss: 0.6264 - accuracy: 0.7168 - val_loss: 0.5352 - val_accuracy: 0.7959 - lr: 0.0010\n",
      "Epoch 3/11\n",
      "13/13 [==============================] - 36s 3s/step - loss: 0.4884 - accuracy: 0.8265 - val_loss: 0.4288 - val_accuracy: 0.8571 - lr: 0.0010\n",
      "Epoch 4/11\n",
      "13/13 [==============================] - 35s 3s/step - loss: 0.5204 - accuracy: 0.8061 - val_loss: 0.5952 - val_accuracy: 0.7143 - lr: 0.0010\n",
      "Epoch 5/11\n",
      "13/13 [==============================] - 35s 3s/step - loss: 0.3501 - accuracy: 0.8827 - val_loss: 0.2104 - val_accuracy: 0.9184 - lr: 0.0010\n",
      "Epoch 6/11\n",
      "13/13 [==============================] - 35s 3s/step - loss: 0.2524 - accuracy: 0.9082 - val_loss: 0.2366 - val_accuracy: 0.9388 - lr: 0.0010\n",
      "Epoch 7/11\n",
      "13/13 [==============================] - 35s 3s/step - loss: 0.2667 - accuracy: 0.9082 - val_loss: 0.2651 - val_accuracy: 0.8980 - lr: 0.0010\n",
      "Epoch 8/11\n",
      "13/13 [==============================] - 36s 3s/step - loss: 0.2385 - accuracy: 0.9184 - val_loss: 0.3151 - val_accuracy: 0.8980 - lr: 0.0010\n",
      "Epoch 9/11\n",
      "13/13 [==============================] - 35s 3s/step - loss: 0.2371 - accuracy: 0.9260 - val_loss: 0.2727 - val_accuracy: 0.9184 - lr: 0.0010\n",
      "Epoch 10/11\n",
      "13/13 [==============================] - 35s 3s/step - loss: 0.1796 - accuracy: 0.9362 - val_loss: 0.2870 - val_accuracy: 0.9184 - lr: 1.0000e-04\n",
      "Epoch 11/11\n",
      "13/13 [==============================] - 35s 3s/step - loss: 0.1629 - accuracy: 0.9413 - val_loss: 0.2433 - val_accuracy: 0.9184 - lr: 1.0000e-04\n",
      "2/2 [==============================] - 3s 593ms/step\n",
      "Test AUROC: 0.9500000000000001\n",
      "Test AUPRC: 0.9354838709677419\n",
      "Test Accuracy: 0.9591836734693877\n",
      "Test Recall: 0.95\n",
      "Test Precision: 0.967741935483871\n",
      "Test F1 Score: 0.9570175438596491\n",
      "Epoch 1/12\n",
      "13/13 [==============================] - 46s 3s/step - loss: 0.6824 - accuracy: 0.6097 - val_loss: 0.6613 - val_accuracy: 0.6531 - lr: 0.0010\n",
      "Epoch 2/12\n",
      "13/13 [==============================] - 36s 3s/step - loss: 0.5870 - accuracy: 0.7704 - val_loss: 0.5527 - val_accuracy: 0.8367 - lr: 0.0010\n",
      "Epoch 3/12\n",
      "13/13 [==============================] - 36s 3s/step - loss: 0.5031 - accuracy: 0.8163 - val_loss: 0.5905 - val_accuracy: 0.8163 - lr: 0.0010\n",
      "Epoch 4/12\n",
      "13/13 [==============================] - 35s 3s/step - loss: 0.3451 - accuracy: 0.8852 - val_loss: 0.6663 - val_accuracy: 0.7959 - lr: 0.0010\n",
      "Epoch 5/12\n",
      "13/13 [==============================] - 35s 3s/step - loss: 0.3116 - accuracy: 0.8801 - val_loss: 0.4041 - val_accuracy: 0.8980 - lr: 0.0010\n",
      "Epoch 6/12\n",
      "13/13 [==============================] - 36s 3s/step - loss: 0.2910 - accuracy: 0.9005 - val_loss: 0.2879 - val_accuracy: 0.8980 - lr: 0.0010\n",
      "Epoch 7/12\n",
      "13/13 [==============================] - 37s 3s/step - loss: 0.3248 - accuracy: 0.8903 - val_loss: 0.3088 - val_accuracy: 0.8980 - lr: 0.0010\n",
      "Epoch 8/12\n",
      "13/13 [==============================] - 35s 3s/step - loss: 0.2601 - accuracy: 0.9133 - val_loss: 0.3133 - val_accuracy: 0.8776 - lr: 0.0010\n",
      "Epoch 9/12\n",
      "13/13 [==============================] - 35s 3s/step - loss: 0.1806 - accuracy: 0.9286 - val_loss: 0.3664 - val_accuracy: 0.8367 - lr: 0.0010\n",
      "Epoch 10/12\n",
      "13/13 [==============================] - 36s 3s/step - loss: 0.1731 - accuracy: 0.9311 - val_loss: 0.3544 - val_accuracy: 0.8980 - lr: 1.0000e-04\n",
      "Epoch 11/12\n",
      "13/13 [==============================] - 35s 3s/step - loss: 0.1453 - accuracy: 0.9439 - val_loss: 0.3994 - val_accuracy: 0.8980 - lr: 1.0000e-04\n",
      "Epoch 12/12\n",
      "13/13 [==============================] - 36s 3s/step - loss: 0.1341 - accuracy: 0.9490 - val_loss: 0.3528 - val_accuracy: 0.9184 - lr: 1.0000e-04\n",
      "2/2 [==============================] - 3s 664ms/step\n",
      "Test AUROC: 0.975\n",
      "Test AUPRC: 0.9666666666666667\n",
      "Test Accuracy: 0.9795918367346939\n",
      "Test Recall: 0.975\n",
      "Test Precision: 0.9833333333333334\n",
      "Test F1 Score: 0.9787049109083007\n",
      "Epoch 1/13\n",
      "13/13 [==============================] - 42s 3s/step - loss: 0.6819 - accuracy: 0.5918 - val_loss: 2.1749 - val_accuracy: 0.5510 - lr: 0.0010\n",
      "Epoch 2/13\n",
      "13/13 [==============================] - 36s 3s/step - loss: 0.8237 - accuracy: 0.6429 - val_loss: 0.6735 - val_accuracy: 0.5918 - lr: 0.0010\n",
      "Epoch 3/13\n",
      "13/13 [==============================] - 35s 3s/step - loss: 0.5978 - accuracy: 0.7602 - val_loss: 0.4570 - val_accuracy: 0.9184 - lr: 0.0010\n",
      "Epoch 4/13\n",
      "13/13 [==============================] - 36s 3s/step - loss: 0.4385 - accuracy: 0.8673 - val_loss: 0.5509 - val_accuracy: 0.8776 - lr: 0.0010\n",
      "Epoch 5/13\n",
      "13/13 [==============================] - 35s 3s/step - loss: 0.3137 - accuracy: 0.8827 - val_loss: 0.4179 - val_accuracy: 0.8980 - lr: 0.0010\n",
      "Epoch 6/13\n",
      "13/13 [==============================] - 35s 3s/step - loss: 0.2666 - accuracy: 0.8980 - val_loss: 0.3195 - val_accuracy: 0.8980 - lr: 0.0010\n",
      "Epoch 7/13\n",
      "13/13 [==============================] - 35s 3s/step - loss: 0.2167 - accuracy: 0.9286 - val_loss: 0.2707 - val_accuracy: 0.9184 - lr: 0.0010\n",
      "Epoch 8/13\n",
      "13/13 [==============================] - 35s 3s/step - loss: 0.3154 - accuracy: 0.8929 - val_loss: 0.3269 - val_accuracy: 0.8571 - lr: 0.0010\n",
      "Epoch 9/13\n",
      "13/13 [==============================] - 35s 3s/step - loss: 0.2619 - accuracy: 0.8801 - val_loss: 0.4195 - val_accuracy: 0.8980 - lr: 0.0010\n",
      "Epoch 10/13\n",
      "13/13 [==============================] - 36s 3s/step - loss: 0.2221 - accuracy: 0.9362 - val_loss: 0.2601 - val_accuracy: 0.9388 - lr: 1.0000e-04\n",
      "Epoch 11/13\n",
      "13/13 [==============================] - 36s 3s/step - loss: 0.1871 - accuracy: 0.9388 - val_loss: 0.2267 - val_accuracy: 0.9388 - lr: 1.0000e-04\n",
      "Epoch 12/13\n",
      "13/13 [==============================] - 35s 3s/step - loss: 0.1685 - accuracy: 0.9464 - val_loss: 0.2883 - val_accuracy: 0.9184 - lr: 1.0000e-04\n",
      "Epoch 13/13\n",
      "13/13 [==============================] - 34s 3s/step - loss: 0.1480 - accuracy: 0.9566 - val_loss: 0.2275 - val_accuracy: 0.8776 - lr: 1.0000e-04\n",
      "2/2 [==============================] - 2s 609ms/step\n",
      "Test AUROC: 0.975\n",
      "Test AUPRC: 0.9666666666666667\n",
      "Test Accuracy: 0.9795918367346939\n",
      "Test Recall: 0.975\n",
      "Test Precision: 0.9833333333333334\n",
      "Test F1 Score: 0.9787049109083007\n",
      "Epoch 1/14\n",
      "13/13 [==============================] - 41s 3s/step - loss: 0.6897 - accuracy: 0.5179 - val_loss: 0.6473 - val_accuracy: 0.7959 - lr: 0.0010\n",
      "Epoch 2/14\n",
      "13/13 [==============================] - 36s 3s/step - loss: 0.9698 - accuracy: 0.7602 - val_loss: 0.6691 - val_accuracy: 0.6531 - lr: 0.0010\n",
      "Epoch 3/14\n",
      "13/13 [==============================] - 37s 3s/step - loss: 0.6783 - accuracy: 0.5918 - val_loss: 0.6684 - val_accuracy: 0.6939 - lr: 0.0010\n",
      "Epoch 4/14\n",
      "13/13 [==============================] - 35s 3s/step - loss: 0.6418 - accuracy: 0.7474 - val_loss: 0.5562 - val_accuracy: 0.8163 - lr: 0.0010\n",
      "Epoch 5/14\n",
      "13/13 [==============================] - 35s 3s/step - loss: 0.5690 - accuracy: 0.7704 - val_loss: 0.5140 - val_accuracy: 0.7959 - lr: 0.0010\n",
      "Epoch 6/14\n",
      "13/13 [==============================] - 36s 3s/step - loss: 0.4583 - accuracy: 0.8367 - val_loss: 0.5651 - val_accuracy: 0.8163 - lr: 0.0010\n",
      "Epoch 7/14\n",
      "13/13 [==============================] - 36s 3s/step - loss: 0.4325 - accuracy: 0.8418 - val_loss: 0.5233 - val_accuracy: 0.7551 - lr: 0.0010\n",
      "Epoch 8/14\n",
      "13/13 [==============================] - 36s 3s/step - loss: 0.6613 - accuracy: 0.6097 - val_loss: 0.5352 - val_accuracy: 0.7755 - lr: 0.0010\n",
      "Epoch 9/14\n",
      "13/13 [==============================] - 35s 3s/step - loss: 0.4673 - accuracy: 0.8469 - val_loss: 0.4691 - val_accuracy: 0.8163 - lr: 0.0010\n",
      "Epoch 10/14\n",
      "13/13 [==============================] - 36s 3s/step - loss: 0.3990 - accuracy: 0.8622 - val_loss: 0.4164 - val_accuracy: 0.8367 - lr: 1.0000e-04\n",
      "Epoch 11/14\n",
      "13/13 [==============================] - 35s 3s/step - loss: 0.3351 - accuracy: 0.8648 - val_loss: 0.4453 - val_accuracy: 0.8163 - lr: 1.0000e-04\n",
      "Epoch 12/14\n",
      "13/13 [==============================] - 35s 3s/step - loss: 0.3241 - accuracy: 0.8801 - val_loss: 0.3987 - val_accuracy: 0.8571 - lr: 1.0000e-04\n",
      "Epoch 13/14\n",
      "13/13 [==============================] - 35s 3s/step - loss: 0.3086 - accuracy: 0.9031 - val_loss: 0.4019 - val_accuracy: 0.8571 - lr: 1.0000e-04\n",
      "Epoch 14/14\n",
      "13/13 [==============================] - 35s 3s/step - loss: 0.2929 - accuracy: 0.9005 - val_loss: 0.4174 - val_accuracy: 0.8571 - lr: 1.0000e-04\n",
      "2/2 [==============================] - 3s 632ms/step\n",
      "Test AUROC: 0.8827586206896553\n",
      "Test AUPRC: 0.8652357494722027\n",
      "Test Accuracy: 0.8979591836734694\n",
      "Test Recall: 0.8827586206896552\n",
      "Test Precision: 0.9080882352941176\n",
      "Test F1 Score: 0.8914488258750553\n",
      "Epoch 1/15\n",
      "13/13 [==============================] - 41s 3s/step - loss: 0.6985 - accuracy: 0.5408 - val_loss: 0.6903 - val_accuracy: 0.5510 - lr: 0.0010\n",
      "Epoch 2/15\n",
      "13/13 [==============================] - 35s 3s/step - loss: 0.6516 - accuracy: 0.7092 - val_loss: 0.5566 - val_accuracy: 0.8163 - lr: 0.0010\n",
      "Epoch 3/15\n",
      "13/13 [==============================] - 35s 3s/step - loss: 0.5148 - accuracy: 0.8036 - val_loss: 0.5621 - val_accuracy: 0.8776 - lr: 0.0010\n",
      "Epoch 4/15\n",
      "13/13 [==============================] - 35s 3s/step - loss: 0.4053 - accuracy: 0.8801 - val_loss: 0.4275 - val_accuracy: 0.8980 - lr: 0.0010\n",
      "Epoch 5/15\n",
      "13/13 [==============================] - 35s 3s/step - loss: 0.3824 - accuracy: 0.8393 - val_loss: 0.5953 - val_accuracy: 0.8571 - lr: 0.0010\n",
      "Epoch 6/15\n",
      "13/13 [==============================] - 35s 3s/step - loss: 0.3077 - accuracy: 0.8750 - val_loss: 0.5761 - val_accuracy: 0.8776 - lr: 0.0010\n",
      "Epoch 7/15\n",
      "13/13 [==============================] - 35s 3s/step - loss: 0.2513 - accuracy: 0.9184 - val_loss: 0.3881 - val_accuracy: 0.8776 - lr: 0.0010\n",
      "Epoch 8/15\n",
      "13/13 [==============================] - 35s 3s/step - loss: 0.2508 - accuracy: 0.9158 - val_loss: 0.2514 - val_accuracy: 0.8980 - lr: 0.0010\n",
      "Epoch 9/15\n",
      "13/13 [==============================] - 35s 3s/step - loss: 0.1865 - accuracy: 0.9286 - val_loss: 0.2660 - val_accuracy: 0.8980 - lr: 0.0010\n",
      "Epoch 10/15\n",
      "13/13 [==============================] - 35s 3s/step - loss: 0.1548 - accuracy: 0.9439 - val_loss: 0.2635 - val_accuracy: 0.8980 - lr: 1.0000e-04\n",
      "Epoch 11/15\n",
      "13/13 [==============================] - 35s 3s/step - loss: 0.1277 - accuracy: 0.9515 - val_loss: 0.3432 - val_accuracy: 0.8776 - lr: 1.0000e-04\n",
      "Epoch 12/15\n",
      "13/13 [==============================] - 35s 3s/step - loss: 0.1299 - accuracy: 0.9515 - val_loss: 0.3311 - val_accuracy: 0.8980 - lr: 1.0000e-04\n",
      "Epoch 13/15\n",
      "13/13 [==============================] - 35s 3s/step - loss: 0.1179 - accuracy: 0.9592 - val_loss: 0.3250 - val_accuracy: 0.8980 - lr: 1.0000e-04\n",
      "Epoch 14/15\n",
      "13/13 [==============================] - 35s 3s/step - loss: 0.1150 - accuracy: 0.9643 - val_loss: 0.3271 - val_accuracy: 0.8980 - lr: 1.0000e-04\n",
      "Epoch 15/15\n",
      "13/13 [==============================] - 35s 3s/step - loss: 0.1104 - accuracy: 0.9617 - val_loss: 0.3238 - val_accuracy: 0.9184 - lr: 1.0000e-04\n",
      "2/2 [==============================] - 3s 577ms/step\n",
      "Test AUROC: 0.9500000000000001\n",
      "Test AUPRC: 0.9354838709677419\n",
      "Test Accuracy: 0.9591836734693877\n",
      "Test Recall: 0.95\n",
      "Test Precision: 0.967741935483871\n",
      "Test F1 Score: 0.9570175438596491\n"
     ]
    }
   ],
   "source": [
    "for i in range(5, 16):\n",
    "    train_emobed_data = np.squeeze(train_emobed_data)\n",
    "    val_data_emobed = np.squeeze(val_data_emobed)\n",
    "    test_data_emobed = np.squeeze(test_data_emobed)\n",
    "    EmbeddingInput = Input(shape=(MAX_SEQ_LENGTH, 768), name=\"embeddings\")\n",
    "    EmotionInput = Input(shape=(MAX_SEQ_LENGTH, 7), name=\"EmotionInput\")\n",
    "    TimeInput = Input(shape=(MAX_SEQ_LENGTH,), name=\"times\")\n",
    "    decay_layer = Lambda(\n",
    "        lambda t: tf.math.exp(-(t - tf.roll(t, shift=1, axis=1)) / 86400),\n",
    "        name=\"decay_layer\",\n",
    "    )(TimeInput)\n",
    "    decay_layer_2 = tf.expand_dims(decay_layer, axis=-1, name=\"decay_layer_2\")\n",
    "    lstm_layer = LSTM(\n",
    "        LSTM_HIDDEN_DIM, dropout=DROPOUT_RATE, return_sequences=True, name=\"lstm\"\n",
    "    )(EmbeddingInput, mask=EmbeddingInput._keras_mask)\n",
    "    lstm_layer_emotion = LSTM(\n",
    "        LSTM_HIDDEN_DIM, dropout=DROPOUT_RATE, return_sequences=True, name=\"lstm2\"\n",
    "    )(EmotionInput, mask=EmotionInput._keras_mask)\n",
    "    multiply = tf.keras.layers.Multiply(name=\"multiply\")(\n",
    "        [lstm_layer, lstm_layer_emotion, decay_layer_2]\n",
    "    )\n",
    "    flatten_layer = tf.keras.layers.Flatten(name=\"flatten\")(multiply)\n",
    "    outputs = Dense(NUM_CLASSES, activation=\"softmax\")(flatten_layer)\n",
    "    model = Model(inputs=[EmbeddingInput, TimeInput, EmotionInput], outputs=outputs)\n",
    "    optimizer = Adam(learning_rate=INIT_LR)\n",
    "    model.compile(loss=\"binary_crossentropy\", optimizer=optimizer, metrics=[\"accuracy\"])\n",
    "    lr_scheduler = LearningRateScheduler(time_decay)\n",
    "    history = model.fit(\n",
    "        [train_data, train_timestamps_padded, train_emobed_data],\n",
    "        train_labels,\n",
    "        validation_data=(\n",
    "            [val_data, val_timestamps_padded, val_data_emobed],\n",
    "            val_labels,\n",
    "        ),\n",
    "        epochs=i,\n",
    "        batch_size=32,\n",
    "        callbacks=[lr_scheduler],\n",
    "    )\n",
    "    test_preds = model.predict([test_data, test_timestamps_padded, test_data_emobed])\n",
    "    test_preds = np.argmax(test_preds, axis=1)\n",
    "    test_f1_score = f1_score(\n",
    "        np.argmax(test_labels, axis=1), test_preds, average=\"macro\"\n",
    "    )\n",
    "    test_auroc = roc_auc_score(np.argmax(test_labels, axis=1), test_preds)\n",
    "    test_auprc = average_precision_score(np.argmax(test_labels, axis=1), test_preds)\n",
    "    test_accuracy = accuracy_score(np.argmax(test_labels, axis=1), test_preds)\n",
    "    test_recall = recall_score(\n",
    "        np.argmax(test_labels, axis=1), test_preds, average=\"macro\"\n",
    "    )\n",
    "    test_precision = precision_score(\n",
    "        np.argmax(test_labels, axis=1), test_preds, average=\"macro\"\n",
    "    )\n",
    "    print(\"Test AUROC:\", test_auroc)\n",
    "    print(\"Test AUPRC:\", test_auprc)\n",
    "    print(\"Test Accuracy:\", test_accuracy)\n",
    "    print(\"Test Recall:\", test_recall)\n",
    "    print(\"Test Precision:\", test_precision)\n",
    "    print(\"Test F1 Score:\", test_f1_score)\n"
   ]
  },
  {
   "cell_type": "code",
   "execution_count": 70,
   "id": "f4b99bfb-b057-4e29-ac61-199af9d686ca",
   "metadata": {},
   "outputs": [
    {
     "data": {
      "text/plain": [
       "<tensorflow.python.checkpoint.checkpoint.CheckpointLoadStatus at 0x7f58ac3b9f70>"
      ]
     },
     "execution_count": 70,
     "metadata": {},
     "output_type": "execute_result"
    }
   ],
   "source": [
    "model.load_weights(checkpoint_filepath)"
   ]
  },
  {
   "cell_type": "code",
   "execution_count": 71,
   "id": "fcf5319e-573a-4bec-ad6e-8e2fb5496007",
   "metadata": {},
   "outputs": [
    {
     "name": "stdout",
     "output_type": "stream",
     "text": [
      "2/2 [==============================] - 1s 560ms/step\n",
      "Test AUROC: 0.9232758620689655\n",
      "Test AUPRC: 0.9245705945213334\n",
      "Test Accuracy: 0.9183673469387755\n",
      "Test Recall: 0.9232758620689655\n",
      "Test Precision: 0.9132996632996633\n",
      "Test F1 Score: 0.9166666666666667\n"
     ]
    }
   ],
   "source": [
    "test_preds = model.predict(\n",
    "    [test_data, test_timestamps_padded, test_data_emobed[:, :, -7:]]\n",
    ")\n",
    "test_preds = np.argmax(test_preds, axis=1)\n",
    "test_f1_score = f1_score(np.argmax(test_labels, axis=1), test_preds, average=\"macro\")\n",
    "test_auroc = roc_auc_score(np.argmax(test_labels, axis=1), test_preds)\n",
    "test_auprc = average_precision_score(np.argmax(test_labels, axis=1), test_preds)\n",
    "test_accuracy = accuracy_score(np.argmax(test_labels, axis=1), test_preds)\n",
    "test_recall = recall_score(np.argmax(test_labels, axis=1), test_preds, average=\"macro\")\n",
    "test_precision = precision_score(\n",
    "    np.argmax(test_labels, axis=1), test_preds, average=\"macro\"\n",
    ")\n",
    "print(\"Test AUROC:\", test_auroc)\n",
    "print(\"Test AUPRC:\", test_auprc)\n",
    "print(\"Test Accuracy:\", test_accuracy)\n",
    "print(\"Test Recall:\", test_recall)\n",
    "print(\"Test Precision:\", test_precision)\n",
    "print(\"Test F1 Score:\", test_f1_score)\n"
   ]
  },
  {
   "cell_type": "code",
   "execution_count": 73,
   "id": "6aa46542-205e-4974-a1c5-7bbb5f0e26a4",
   "metadata": {},
   "outputs": [
    {
     "data": {
      "image/png": "[encoded data removed]",
      "text/plain": [
       "<Figure size 432x288 with 1 Axes>"
      ]
     },
     "metadata": {
      "needs_background": "light"
     },
     "output_type": "display_data"
    },
    {
     "data": {
      "image/png": "[encoded data removed]",
      "text/plain": [
       "<Figure size 432x288 with 1 Axes>"
      ]
     },
     "metadata": {
      "needs_background": "light"
     },
     "output_type": "display_data"
    }
   ],
   "source": [
    "# summarize history for accuracy\n",
    "plt.plot(history.history['accuracy'])\n",
    "plt.plot(history.history['val_accuracy'])\n",
    "plt.title('model accuracy')\n",
    "plt.ylabel('accuracy')\n",
    "plt.xlabel('epoch')\n",
    "plt.legend(['train', 'val'], loc='upper left')\n",
    "plt.show()\n",
    "# summarize history for loss\n",
    "plt.plot(history.history['loss'])\n",
    "plt.plot(history.history['val_loss'])\n",
    "plt.title('model loss')\n",
    "plt.ylabel('loss')\n",
    "plt.xlabel('epoch')\n",
    "plt.legend(['train', 'val'], loc='upper left')\n",
    "plt.show()"
   ]
  },
  {
   "cell_type": "code",
   "execution_count": null,
   "id": "d36ec35a-678e-4a8a-8c73-245288ad21b7",
   "metadata": {},
   "outputs": [],
   "source": []
  },
  {
   "cell_type": "code",
   "execution_count": null,
   "id": "e8d94fda-0412-4653-8581-63d3a52e52f1",
   "metadata": {},
   "outputs": [],
   "source": [
    "#Concatenation of embeddings, the full vector = 768+7 = 775"
   ]
  },
  {
   "cell_type": "code",
   "execution_count": null,
   "id": "22497718-5ea2-461a-b756-90d236f1e9a7",
   "metadata": {},
   "outputs": [],
   "source": [
    "df_concat[\"emobeds\"] = 0\n",
    "huge_emobed_lst = []\n",
    "for i in range(len(df_concat)):\n",
    "    concatenated_array = np.concatenate(\n",
    "        (\n",
    "            np.array(df_concat[\"embeddings_bert_converted\"].iloc[i]),\n",
    "            np.squeeze(np.array(df_concat[\"emotions\"].iloc[i])),\n",
    "        ),\n",
    "        axis=1,\n",
    "    )\n",
    "    huge_emobed_lst.append(concatenated_array)\n",
    "df_concat[\"emobeds\"] = huge_emobed_lst\n"
   ]
  },
  {
   "cell_type": "code",
   "execution_count": 30,
   "id": "66e6a93b-b728-4a07-94a2-dd68ce9affd5",
   "metadata": {},
   "outputs": [
    {
     "name": "stdout",
     "output_type": "stream",
     "text": [
      "Epoch 1/10\n",
      "13/13 [==============================] - 27s 2s/step - loss: 2.6378 - accuracy: 0.5612 - val_loss: 1.8099 - val_accuracy: 0.4490 - lr: 0.0010\n",
      "Epoch 2/10\n",
      "13/13 [==============================] - 23s 2s/step - loss: 1.1319 - accuracy: 0.5714 - val_loss: 1.6476 - val_accuracy: 0.5306 - lr: 0.0010\n",
      "Epoch 3/10\n",
      "13/13 [==============================] - 23s 2s/step - loss: 0.6926 - accuracy: 0.6837 - val_loss: 1.4682 - val_accuracy: 0.5918 - lr: 0.0010\n",
      "Epoch 4/10\n",
      "13/13 [==============================] - 23s 2s/step - loss: 0.5286 - accuracy: 0.8163 - val_loss: 1.3039 - val_accuracy: 0.5102 - lr: 0.0010\n",
      "Epoch 5/10\n",
      "13/13 [==============================] - 23s 2s/step - loss: 0.4928 - accuracy: 0.8367 - val_loss: 1.3888 - val_accuracy: 0.5306 - lr: 0.0010\n",
      "Epoch 6/10\n",
      "13/13 [==============================] - 23s 2s/step - loss: 0.4743 - accuracy: 0.8622 - val_loss: 1.7968 - val_accuracy: 0.4694 - lr: 0.0010\n",
      "Epoch 7/10\n",
      "13/13 [==============================] - 23s 2s/step - loss: 0.3668 - accuracy: 0.8724 - val_loss: 1.3080 - val_accuracy: 0.5306 - lr: 0.0010\n",
      "Epoch 8/10\n",
      "13/13 [==============================] - 23s 2s/step - loss: 0.3529 - accuracy: 0.8903 - val_loss: 1.8751 - val_accuracy: 0.5102 - lr: 0.0010\n",
      "Epoch 9/10\n",
      "13/13 [==============================] - 23s 2s/step - loss: 0.3957 - accuracy: 0.8954 - val_loss: 1.6179 - val_accuracy: 0.4694 - lr: 0.0010\n",
      "Epoch 10/10\n",
      "13/13 [==============================] - 23s 2s/step - loss: 0.3067 - accuracy: 0.9286 - val_loss: 1.5675 - val_accuracy: 0.4490 - lr: 1.0000e-04\n"
     ]
    }
   ],
   "source": [
    "# Define the time decay function\n",
    "def time_decay(epoch):\n",
    "    lrate = INIT_LR * pow(DECAY_FACTOR, np.floor((1+epoch)/DECAY_EPOCHS))\n",
    "    return lrate\n",
    "\n",
    "# Define the input layers\n",
    "EmbeddingInput = Input(shape=(MAX_SEQ_LENGTH,775), name='embeddings')\n",
    "\n",
    "TimeInput = Input(shape=(MAX_SEQ_LENGTH,), name='times')\n",
    "decay_layer = Lambda(lambda t: tf.math.exp(-(t - tf.roll(t, shift=1, axis=1)) / 86400), name='decay_layer')(TimeInput)\n",
    "decay_layer_2 = tf.expand_dims(decay_layer, axis=-1, name='decay_layer_2')\n",
    "gru_layer = GRU(GRU_HIDDEN_DIM, dropout=DROPOUT_RATE, return_sequences=True, name='gru')(EmbeddingInput, mask=EmbeddingInput._keras_mask)\n",
    "multiply = tf.keras.layers.Multiply(name='multiply')([gru_layer, decay_layer_2])\n",
    "flatten_layer = tf.keras.layers.Flatten(name='flatten')(multiply)\n",
    "outputs = Dense(NUM_CLASSES, activation='softmax')(flatten_layer)\n",
    "model = Model(inputs=[EmbeddingInput, TimeInput], outputs=outputs)\n",
    "optimizer = Adam(learning_rate=INIT_LR)\n",
    "model.compile(loss='binary_crossentropy', optimizer=optimizer, metrics=['accuracy'])\n",
    "lr_scheduler = LearningRateScheduler(time_decay)\n",
    "history = model.fit([train_emobed_data, train_timestamps_padded], train_labels, validation_data=([val_data_emobed, val_timestamps_padded], val_labels), epochs=10, batch_size=32, callbacks=[lr_scheduler])"
   ]
  },
  {
   "cell_type": "code",
   "execution_count": 31,
   "id": "1f6d0692-57c6-4efb-89a1-091afa8cacfe",
   "metadata": {},
   "outputs": [
    {
     "name": "stdout",
     "output_type": "stream",
     "text": [
      "2/2 [==============================] - 1s 579ms/step - loss: 2.7029 - accuracy: 0.4490\n"
     ]
    },
    {
     "data": {
      "text/plain": [
       "[2.7028777599334717, 0.44897958636283875]"
      ]
     },
     "execution_count": 31,
     "metadata": {},
     "output_type": "execute_result"
    }
   ],
   "source": [
    "model.evaluate([test_data_emobed, test_timestamps_padded], test_labels)"
   ]
  },
  {
   "cell_type": "code",
   "execution_count": 32,
   "id": "7120196e-74d5-4278-b005-c3f8e520bcd0",
   "metadata": {},
   "outputs": [
    {
     "name": "stdout",
     "output_type": "stream",
     "text": [
      "WARNING:tensorflow:5 out of the last 9 calls to <function Model.make_predict_function.<locals>.predict_function at 0x7f293535aca0> triggered tf.function retracing. Tracing is expensive and the excessive number of tracings could be due to (1) creating @tf.function repeatedly in a loop, (2) passing tensors with different shapes, (3) passing Python objects instead of tensors. For (1), please define your @tf.function outside of the loop. For (2), @tf.function has reduce_retracing=True option that can avoid unnecessary retracing. For (3), please refer to https://www.tensorflow.org/guide/function#controlling_retracing and https://www.tensorflow.org/api_docs/python/tf/function for  more details.\n",
      "2/2 [==============================] - 2s 575ms/step\n",
      "Test AUROC: 0.578125\n",
      "Test AUPRC: 0.7072704081632653\n",
      "Test Accuracy: 0.4489795918367347\n",
      "Test Recall: 0.578125\n",
      "Test Precision: 0.6931818181818181\n",
      "Test F1 Score: 0.4138236597252991\n"
     ]
    }
   ],
   "source": [
    "test_preds = model.predict([test_data_emobed, test_timestamps_padded])\n",
    "test_preds = np.argmax(test_preds, axis=1)\n",
    "test_f1_score = f1_score(np.argmax(test_labels, axis=1), test_preds, average='macro')\n",
    "from sklearn.metrics import roc_auc_score, average_precision_score, accuracy_score, recall_score, precision_score\n",
    "# Calculate AUROC\n",
    "test_auroc = roc_auc_score(np.argmax(test_labels, axis=1), test_preds)\n",
    "# Calculate AUPRC\n",
    "test_auprc = average_precision_score(np.argmax(test_labels, axis=1), test_preds)\n",
    "# Calculate accuracy\n",
    "test_accuracy = accuracy_score(np.argmax(test_labels, axis=1), test_preds)\n",
    "# Calculate recall\n",
    "test_recall = recall_score(np.argmax(test_labels, axis=1), test_preds, average='macro')\n",
    "# Calculate precision\n",
    "test_precision = precision_score(np.argmax(test_labels, axis=1), test_preds, average='macro')\n",
    "print('Test AUROC:', test_auroc)\n",
    "print('Test AUPRC:', test_auprc)\n",
    "print('Test Accuracy:', test_accuracy)\n",
    "print('Test Recall:', test_recall)\n",
    "print('Test Precision:', test_precision)\n",
    "print('Test F1 Score:', test_f1_score)\n"
   ]
  },
  {
   "cell_type": "code",
   "execution_count": null,
   "id": "c857b3cb-451f-414e-97dd-447a05466578",
   "metadata": {},
   "outputs": [],
   "source": [
    "##Viz"
   ]
  },
  {
   "cell_type": "code",
   "execution_count": 96,
   "id": "7e90ae95-6a87-464c-8c3b-e00185ed1f27",
   "metadata": {},
   "outputs": [
    {
     "data": {
      "image/png": "[encoded data removed]",
      "text/plain": [
       "<IPython.core.display.Image object>"
      ]
     },
     "execution_count": 96,
     "metadata": {},
     "output_type": "execute_result"
    }
   ],
   "source": [
    "dot_img_file = '/tmp/model_2.png'\n",
    "tf.keras.utils.plot_model(model, to_file=dot_img_file, show_shapes=True)"
   ]
  }
 ],
 "metadata": {
  "kernelspec": {
   "display_name": "Python 3 (ipykernel)",
   "language": "python",
   "name": "python3"
  },
  "language_info": {
   "codemirror_mode": {
    "name": "ipython",
    "version": 3
   },
   "file_extension": ".py",
   "mimetype": "text/x-python",
   "name": "python",
   "nbconvert_exporter": "python",
   "pygments_lexer": "ipython3",
   "version": "3.9.2"
  }
 },
 "nbformat": 4,
 "nbformat_minor": 5
}
